{
 "cells": [
  {
   "cell_type": "code",
   "execution_count": 20,
   "metadata": {
    "collapsed": false
   },
   "outputs": [
    {
     "name": "stdout",
     "output_type": "stream",
     "text": [
      "[[[-349, 164, -423]], [[-45, -826, -125, -441, 34, -876]], [[557, -910, 314, 632, 652, 998, 568, 654, -708, 463, 999, 589]], [[707, -597, -746, -138, -482, -938, -922, 513, -415, 608, 51, -362, -798, 664, 369, -934, 834, 67, -104, -335, 440, 770, 819, -592]], [[856, 768, -854, 488, -713, 472, 885, -417, -230, -410, 731, 83, 10, 881, 732, -447, -145, -921, -953, -720, 204, -297, -530, 442, -527, -137, 143, 675, 141, -463, 18, 388, -669, 465, 16, 538, 819, 975, -464, -611, 37, 261, -407, 652, -942, -953, -595, -533]]]\n",
      "12\n"
     ]
    }
   ],
   "source": [
    "\"\"\" \n",
    "List of user-specified length m\n",
    "with given charecteristic, example - m from X distribution\n",
    "write a function which will call any function generated in \n",
    "class n times, each time with a different specified value\n",
    "of m\n",
    "\n",
    "Input: function f, which produces an output of a list of\n",
    "lenght m, m itself, and a number n of lists you want\n",
    "\n",
    "Output: list of n lists, lengh increasing multiples 2 of m\n",
    "\n",
    "\n",
    "\"\"\"\n",
    "\n",
    "\n",
    "from random import randint\n",
    "\n",
    "def rand_list(m):\n",
    "    lis = []\n",
    "    for _ in xrange(m):\n",
    "        lis.append(randint(-1000,1000))\n",
    "    return lis\n",
    "\n",
    "def rand_list_comp(m):\n",
    "    lis = [randint(-1000,1000) for x in xrange(m)]\n",
    "    return lis\n",
    "\n",
    "\n",
    "def list_maker(f,m,n):\n",
    "    lis = []\n",
    "    for exp in xrange(n):\n",
    "        lis1 = []\n",
    "        lis1.append(f(m*2**exp))\n",
    "        lis.append(lis1)\n",
    "    return lis\n",
    "    \n",
    "print list_maker(rand_list, 3,5)\n",
    "\n",
    "print 3*2**2"
   ]
  },
  {
   "cell_type": "code",
   "execution_count": 9,
   "metadata": {
    "collapsed": false
   },
   "outputs": [
    {
     "name": "stdout",
     "output_type": "stream",
     "text": [
      "[0, 1, 2, 3, 4]\n"
     ]
    }
   ],
   "source": [
    "\n",
    "def second(m):\n",
    "    return [random.randint(0,1) for _ in xrange(m)]\n",
    "\n",
    "\n",
    "def third(m):\n",
    "    return [_ for _ in xrange(m)]\n",
    "\n",
    "print third(5)"
   ]
  }
 ],
 "metadata": {
  "anaconda-cloud": {},
  "kernelspec": {
   "display_name": "Python [Root]",
   "language": "python",
   "name": "Python [Root]"
  },
  "language_info": {
   "codemirror_mode": {
    "name": "ipython",
    "version": 2
   },
   "file_extension": ".py",
   "mimetype": "text/x-python",
   "name": "python",
   "nbconvert_exporter": "python",
   "pygments_lexer": "ipython2",
   "version": "2.7.12"
  }
 },
 "nbformat": 4,
 "nbformat_minor": 0
}
