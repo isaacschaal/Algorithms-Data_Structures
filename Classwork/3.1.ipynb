{
 "cells": [
  {
   "cell_type": "code",
   "execution_count": 34,
   "metadata": {
    "collapsed": false
   },
   "outputs": [
    {
     "name": "stdout",
     "output_type": "stream",
     "text": [
      "1\n",
      "1\n",
      "3\n",
      "4\n",
      "[5, 7, 6]\n"
     ]
    }
   ],
   "source": [
    "def incremental_max_subarray(x, mx):\n",
    "    \"\"\"x is an array of integers\n",
    "    mx is the max_subarray of x[0:-1]  #all but the last one, \n",
    "    which return the max\n",
    "    subarray of the entire list\"\"\"\n",
    "    \n",
    "    \n",
    "    \"\"\"This is wrong, it needs to be fully linear and check all possible combinations\"\"\"\n",
    "    \n",
    "    if x[-1] <= 0:\n",
    "        return mx\n",
    "    else:\n",
    "        i=2\n",
    "        possible_max = [x[-1]]\n",
    "        done = False\n",
    "        while not done:\n",
    "            #start at the right, find the maximum sub array containing the last one\n",
    "            compare = sum(possible_max)\n",
    "            possible_max.append(x[-i])\n",
    "            if sum(possible_max) > compare:\n",
    "                i+=1\n",
    "                print 1   #there is a problem! what if its a negative, but the one after is a positive? we should take it\n",
    "            elif sum(possible_max) == compare:\n",
    "                possible_max.append(x[-(i+1)])\n",
    "                if sum(possible_max) > compare:\n",
    "                    i+=2\n",
    "                    print 2\n",
    "                else:\n",
    "                    print 3\n",
    "                    done = True \n",
    "\n",
    "            else:\n",
    "                print 4\n",
    "                done = True        \n",
    "        \n",
    "    if sum(mx)> compare:\n",
    "        return mx\n",
    "    elif sum(mx) < compare:\n",
    "        print i\n",
    "        return x[-(i-1):]\n",
    "    else:\n",
    "        print \"The added number tied the previous maximum subarray.\\nThe maximum subarry containing the new number is:\"\n",
    "        return x[-(i-1):]\n",
    "    \n",
    "    \n",
    "test_array = [7,2,3,4,-1,0,5,7,6]\n",
    "max_array = test_array[0:4]\n",
    "\n",
    "\n",
    "\n",
    "print incremental_max_subarray(test_array, max_array)"
   ]
  },
  {
   "cell_type": "code",
   "execution_count": null,
   "metadata": {
    "collapsed": true
   },
   "outputs": [],
   "source": [
    "def recursive_mx_subarray(A):\n",
    "    max_subarray = A[0]\n",
    "    if A[0] <= 0:\n",
    "        max_with_end = [A[1]]\n",
    "    else:\n",
    "        max_with_end = [A[0],A[1]]\n",
    "    for x in range(2, len(A)):\n",
    "        if sum(max_with_end) >=0:\n",
    "            max_with_end.append(A[x])\n",
    "        else: \n",
    "            max_with_end = A[x]\n",
    "    max_subarray = max(max_subarray, max_with_end)\n",
    "    \n",
    "    #the way that he wrote it is better, the idea is to create a recursive function, that calls itself\n",
    "    # other ipmortant things is the simplicity of max way\n",
    "    \n",
    "    #curious about the mx_subarray function... \n",
    "        \n",
    "            \n",
    "    #introdcuing A[2]\n",
    "    #    [1,2,3,-9,6,7,8,100]\n",
    "    \n",
    "    \n",
    "    return mx_subarray, mx_endarray"
   ]
  },
  {
   "cell_type": "code",
   "execution_count": null,
   "metadata": {
    "collapsed": true
   },
   "outputs": [],
   "source": [
    "\n",
    "def recursive_mx_subarray(A):\n",
    "    if len(A) == 0: #base case\n",
    "        return (0, 0)\n",
    "    (mx_subarray, mx_endarray) = recursive_mx_subarray(A[:-1])\n",
    "    mx_endarray = max(mx_endarray + A[-1], 0)\n",
    "    mx_subarray = max(mx_subarray, mx_endarray)\n",
    "    return mx_subarray, mx_endarray\n",
    "\n",
    "\n",
    "def mx_subarray(A):\n",
    "    (x,_) = recursive_mx_subarray(A)\n",
    "    return x\n",
    "    \n",
    "A = [7,1,-2,2,1,-3,-3,4]\n",
    "mx_subarray(A)\n"
   ]
  }
 ],
 "metadata": {
  "anaconda-cloud": {},
  "kernelspec": {
   "display_name": "Python [Root]",
   "language": "python",
   "name": "Python [Root]"
  },
  "language_info": {
   "codemirror_mode": {
    "name": "ipython",
    "version": 2
   },
   "file_extension": ".py",
   "mimetype": "text/x-python",
   "name": "python",
   "nbconvert_exporter": "python",
   "pygments_lexer": "ipython2",
   "version": "2.7.12"
  }
 },
 "nbformat": 4,
 "nbformat_minor": 0
}
