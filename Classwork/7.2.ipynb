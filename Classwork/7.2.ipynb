{
 "cells": [
  {
   "cell_type": "code",
   "execution_count": 1,
   "metadata": {
    "collapsed": true
   },
   "outputs": [],
   "source": [
    "#DIRECT ADRESS TABLE\n",
    "\n",
    "\n",
    "#initialize N empty guesses\n",
    "n = 100\n",
    "datable1 = [' ' for x in range(n)]\n",
    "datable2 = [' ' for x in range(n)]\n",
    "\n",
    "# set a guess for the i th entry\n",
    "def set_guess(datatable, i, guess):\n",
    "    datatable[i] = guess\n",
    "\n",
    "# clear an  incorrect guess for ith entry\n",
    "def clear_guess(datatable, i):\n",
    "    datatable[i] = ' '\n",
    "\n",
    "# direct adress table for social secruity numbers\n",
    "## yes we could, it would be a list, the key is the number itself?\n",
    "\n",
    "\n"
   ]
  },
  {
   "cell_type": "code",
   "execution_count": 39,
   "metadata": {},
   "outputs": [
    {
     "name": "stdout",
     "output_type": "stream",
     "text": [
      "[[2, 2, 1, 2, 1, 3, 1, 3, 4, 8, 10, 5, 12, 9, 11, 11, 10, 16, 18, 23, 40, 24, 36, 35, 53, 65, 59, 73, 76, 91, 107, 129, 133, 140, 155, 166, 213, 197, 232, 256, 270, 282, 295, 330, 355, 363, 453, 465, 449, 516, 538, 588, 606, 682, 655, 745, 773, 854, 854, 914, 943, 981, 995, 1009, 1052, 1148, 1158, 1268, 1311, 1295, 1410, 1450, 1356, 1440, 1399, 1503, 1510, 1565, 1582, 1583, 1682, 1573, 1709, 1729, 1637, 1610, 1581, 1698, 1652, 1711, 1661, 1626, 1562, 1537, 1590, 1528, 1455, 1542, 1521, 1387, 1434, 1354, 1305, 1253, 1247, 1250, 1154, 1052, 1123, 1078, 1018, 953, 962, 891, 876, 829, 774, 680, 692, 649, 596, 561, 559, 502, 458, 436, 422, 397, 350, 356, 304, 274, 285, 214, 213, 206, 185, 160, 165, 141, 127, 122, 92, 90, 90, 73, 64, 61, 42, 47, 44, 31, 35, 28, 25, 20, 20, 18, 13, 5, 7, 6, 4, 6, 7, 5, 4, 3, 2, 3, 2], [3154, 3176, 3115, 3073, 3069, 3157, 3131, 3169, 3077, 3033, 3145, 3071, 3157, 3197, 3156, 3154, 3102, 3095, 3165, 3154, 3103, 3086, 3048, 3055, 3153, 3161, 3151, 3135, 3209, 3082, 3078, 3157]]\n"
     ]
    }
   ],
   "source": [
    "import random\n",
    "import string\n",
    "\n",
    "\n",
    "def randomword(length):\n",
    "    return ''.join(random.choice(string.ascii_lowercase) for i in range(length))\n",
    "\n",
    "\n",
    "def empty_hash_table(N):\n",
    "    return [[] for n in range(N)]\n",
    "\n",
    "\n",
    "def add_to_hash_table(hash_table, item, hash_function):\n",
    "    N = len(hash_table)\n",
    "    # Your code here\n",
    "    k = hash_function(item)\n",
    "    hash_table[k].append(item)\n",
    "    return hash_table\n",
    "\n",
    "\n",
    "def contains(hash_table, item, hash_function):\n",
    "    N = len(hash_table)\n",
    "    k = hash_function(item)\n",
    "    for x in hash_table[k]:\n",
    "        if x == item:\n",
    "            return True\n",
    "    else:\n",
    "        return False\n",
    "    # Your code here\n",
    "    # return true if the item has already been stored in the hash_table\n",
    "\n",
    "\n",
    "def remove(hash_table, item, hash_function):\n",
    "    if not contains(hash_table, item, hash_function):\n",
    "        raise ValueError()\n",
    "    # Your code here\n",
    "    else:\n",
    "        k = hash_function(item)\n",
    "        for i in len(hash_table[k]):\n",
    "            if hash_table[k][i] == item:\n",
    "                del hash_table[k][i]\n",
    "    return hash_table\n",
    "\n",
    "\n",
    "def hash_str1(string):\n",
    "    ans = 0\n",
    "    for chr in string:\n",
    "        ans += ord(chr)\n",
    "    return ans\n",
    "\n",
    "\n",
    "def hash_str2(string):\n",
    "    ans = 0\n",
    "    for chr in string:\n",
    "        ans = ans ^ ord(chr)\n",
    "    return ans\n",
    "\n",
    "\n",
    "def hash_str3(string):\n",
    "    ans = 0\n",
    "    for chr in string:\n",
    "        ans = ans * 128 + ord(chr)\n",
    "    return ans\n",
    "\n",
    "\n",
    "def hash_str4(string):\n",
    "    random.seed(ord(string[0]))\n",
    "    return random.getrandbits(32)\n",
    "\n",
    "words = []\n",
    "for i in range(100000):\n",
    "    words.append(randomword(10))\n",
    "\n",
    "hash_table_array = []\n",
    "for _ in range(2):\n",
    "    hash_table_array.append(empty_hash_table(5000))\n",
    "    \n",
    "ls = [hash_str1,hash_str2]\n",
    "\n",
    "for x in range(2):\n",
    "    for word in words:\n",
    "        add_to_hash_table(hash_table_array[x], word, ls[x])\n",
    "\n",
    "\n",
    "collision_array = [[] for x in range(2)]\n",
    "for x in range(2):\n",
    "    for y in hash_table_array[x]:\n",
    "        if len(y)>1:\n",
    "            collision_array[x].append(len(y)-1)\n",
    "\n",
    "\n"
   ]
  },
  {
   "cell_type": "code",
   "execution_count": 41,
   "metadata": {},
   "outputs": [
    {
     "name": "stdout",
     "output_type": "stream",
     "text": [
      "626\n",
      "620\n",
      "745\n"
     ]
    }
   ],
   "source": [
    "def hash_str1(string):\n",
    "    ans = 0\n",
    "    for chr in string:\n",
    "        ans += ord(chr)\n",
    "    return ans\n",
    "\n",
    "print (hash_str1(\"alisha\"))\n",
    "print (hash_str1('braden'))\n",
    "print (hash_str1('shiaoli'))\n",
    "\n"
   ]
  }
 ],
 "metadata": {
  "kernelspec": {
   "display_name": "Python 3",
   "language": "python",
   "name": "python3"
  },
  "language_info": {
   "codemirror_mode": {
    "name": "ipython",
    "version": 3
   },
   "file_extension": ".py",
   "mimetype": "text/x-python",
   "name": "python",
   "nbconvert_exporter": "python",
   "pygments_lexer": "ipython3",
   "version": "3.6.3"
  }
 },
 "nbformat": 4,
 "nbformat_minor": 2
}
