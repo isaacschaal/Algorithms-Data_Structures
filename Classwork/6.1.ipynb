{
 "cells": [
  {
   "cell_type": "raw",
   "metadata": {},
   "source": [
    "2.2  -- n^2\n",
    "\n",
    "2.3 -- n^2, because its the same as increasing\n",
    "\n",
    "2.4 -- insertion sort will perform @ almost O(n) time, just a little worse, while this is O(n^2)"
   ]
  },
  {
   "cell_type": "code",
   "execution_count": 23,
   "metadata": {},
   "outputs": [
    {
     "name": "stdout",
     "output_type": "stream",
     "text": [
      "[-60, -38, -16, 6, 28, 50]\n"
     ]
    }
   ],
   "source": [
    "# Write two versions of deterministic quicksort\n",
    "\n",
    "#VERSION1 : elegant and easy to understand\n",
    "\n",
    "#VERSION2 : fast as possible\n",
    "\n",
    "def quicksort(A,p,r):\n",
    "    if p<r:\n",
    "        q = partition(A,p,r)\n",
    "        quicksort(A,p,q-1)\n",
    "        quicksort(A,q+1,r)\n",
    "        #doesn't need to sort q b/c p-(q-1) less than q and (q+1-r) greater\n",
    "    return A\n",
    "\n",
    "def easyquick(A):\n",
    "    return quicksort(A,0,len(A)-1)\n",
    "    \n",
    "def partition(A,p,r):\n",
    "    i = p-1\n",
    "    for j in list(range(p,r)):\n",
    "        if A[j] <= A[r]:\n",
    "            i +=1\n",
    "            temp = A[i]\n",
    "            A[i]=A[j]\n",
    "            A[j]= temp\n",
    "    temp = A[r]\n",
    "    A[r] = A[i+1]\n",
    "    A[i+1] = temp\n",
    "    return i+1\n",
    "\n",
    "def elegant_partition(A,p,r):\n",
    "    lower_list = []\n",
    "    upper_list = []\n",
    "    pivot = r\n",
    "    for i in list(range(p,r)):\n",
    "        \n",
    "    \n",
    "print(easyquick(lis))\n",
    "        "
   ]
  },
  {
   "cell_type": "code",
   "execution_count": 1,
   "metadata": {},
   "outputs": [
    {
     "data": {
      "text/plain": [
       "10946"
      ]
     },
     "execution_count": 1,
     "metadata": {},
     "output_type": "execute_result"
    }
   ],
   "source": [
    "\n",
    "def fib(n): \n",
    "    if n <= 0:\n",
    "        return 0 \n",
    "    if n == 1: \n",
    "        return 1 \n",
    "    return fib(n-1) + fib(n-2)\n",
    "\n",
    "\n",
    "\n",
    "\"\"\"ANALYSIS\n",
    "\n",
    "T(n)= T(n-1) + T(n-2) +c\n",
    "\"\"\"\n",
    "\n",
    "fib(21)"
   ]
  },
  {
   "cell_type": "code",
   "execution_count": 2,
   "metadata": {},
   "outputs": [
    {
     "name": "stdout",
     "output_type": "stream",
     "text": [
      "whassup!\n"
     ]
    }
   ],
   "source": [
    "A = []\n",
    "\n",
    "A[0], A[1] = A[1], A[0]"
   ]
  },
  {
   "cell_type": "code",
   "execution_count": null,
   "metadata": {
    "collapsed": true
   },
   "outputs": [],
   "source": [
    "def degenerate_quicksort():\n",
    "    qsort(range(N))\n",
    "\n",
    "\n",
    "N = 10000\n",
    "    \n",
    "n = np.linspace(0, 1 - eps, 1000)\n",
    "n = np.logspace(np.log10(0.5), -np.log10(N), 20)\n",
    "t = np.zeros(n.shape)\n",
    "for a in range(n.size):\n",
    "    print(a)\n",
    "    locations[1] = n[a]\n",
    "    t[a] = timeit.timeit(degenerate_quicksort, number=1)\n",
    "\n",
    "plt.plot(n, t)\n",
    "plt.ylabel('Time taken')\n",
    "plt.xlabel('Tree balance')"
   ]
  },
  {
   "cell_type": "code",
   "execution_count": 7,
   "metadata": {},
   "outputs": [
    {
     "name": "stdout",
     "output_type": "stream",
     "text": [
      "[  5.00000000e-01   3.19365039e-01   2.03988057e-01   1.30293308e-01\n",
      "   8.32222546e-02   5.31565572e-02   3.39526920e-02   2.16866056e-02\n",
      "   1.38518873e-02   8.84761707e-03   5.65123915e-03   3.60961643e-03\n",
      "   2.30557058e-03   1.47263728e-03   9.40617727e-04   6.00800835e-04\n",
      "   3.83749564e-04   2.45112389e-04   1.56560656e-04   1.00000000e-04]\n"
     ]
    }
   ],
   "source": [
    "import numpy as np\n",
    "eps = 1e-16\n",
    "N = 10000\n",
    "\n",
    "\n",
    "n = np.linspace(0, 1 - eps, 1000)\n",
    "n = np.logspace(np.log10(0.5), -np.log10(N), 20)\n",
    "\n",
    "\n",
    "print (n)"
   ]
  }
 ],
 "metadata": {
  "kernelspec": {
   "display_name": "Python 3",
   "language": "python",
   "name": "python3"
  },
  "language_info": {
   "codemirror_mode": {
    "name": "ipython",
    "version": 3
   },
   "file_extension": ".py",
   "mimetype": "text/x-python",
   "name": "python",
   "nbconvert_exporter": "python",
   "pygments_lexer": "ipython3",
   "version": "3.6.3"
  }
 },
 "nbformat": 4,
 "nbformat_minor": 2
}
