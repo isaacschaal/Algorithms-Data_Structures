{
 "cells": [
  {
   "cell_type": "code",
   "execution_count": 11,
   "metadata": {
    "collapsed": false
   },
   "outputs": [
    {
     "name": "stdout",
     "output_type": "stream",
     "text": [
      "[0, 1, 2, 3, 4, 5]\n",
      "0\n",
      "1\n",
      "4\n",
      "18\n",
      "96\n",
      "600\n",
      "4320\n",
      "35280\n",
      "322560\n",
      "3265920\n",
      "36288000\n",
      "439084800\n",
      "5748019200\n",
      "80951270400\n",
      "1220496076800\n",
      "19615115520000\n",
      "334764638208000\n",
      "6046686277632000\n",
      "115242726703104000\n",
      "2311256907767808000\n"
     ]
    }
   ],
   "source": [
    "import random\n",
    "import math\n",
    "\n",
    "def worst_sorting_alg(A):\n",
    "    \"\"\"\n",
    "    Worst Sorting Algorithm:\n",
    "    Takes a list and then randomally shuffles it until it is in sorted order.\n",
    "    \"\"\"\n",
    "    \n",
    "    done = False\n",
    "    while not done:\n",
    "        for i in range(len(A)):\n",
    "            swap = A[i]\n",
    "            rand = random.choice(range(i,len(A)))\n",
    "            A[i] = A[rand]\n",
    "            A[rand] = swap\n",
    "        done = True\n",
    "        for i in range(1,len(A)):\n",
    "            if A[i-1] > A[i]:\n",
    "                done = False\n",
    "                break\n",
    "    return A\n",
    "\n",
    "lis = [1,4,3,8,3,6,7,8,1,3,34,4,56,5,3,3,4,66,4,4]\n",
    "lis1 = range(6)\n",
    "print worst_sorting_alg(lis1)\n",
    "\n",
    "\n",
    "\n",
    "\n",
    "\n",
    "# What is best case complexity?\n",
    "\"\"\"The question is a little ambigous, as there seem to be \n",
    "two things we mean by best case: best case input or best case result.\n",
    "If it were the best case result, the function could sort in O(N).\n",
    "However, when we say best case we usually mean the input array, and \n",
    "since the input array is randomized (in the first shuffle), all \n",
    "inputs are the same. Thus the complexity is the same as the average case\"\"\"\n",
    "\n",
    "# What is average case complexity?\n",
    "\"\"\"\n",
    "E[Xi] = 1/i!\n",
    "E[x] = E[sum_1_n(Xi)]\n",
    "E[x] = sum_1_n(1/i!)\n",
    "\n",
    "^this is irrelevant??\n",
    "\n",
    "there are n! possible permutations, we must find one of them\n",
    "each permutation takes n. Thus the complexity is O(n!n)\n",
    "\n",
    "\"\"\"\n",
    "\n",
    "# What size lists is this a feasible method?\n",
    "for n in range(20):\n",
    "    print n*math.factorial(n)\n",
    "\" so like, less than 10 maybe?\"\n",
    "\n",
    "#Is it possible to write a worse sorting method? How?\n",
    "# What is its complexity? How big a list can it sort\n",
    "\n",
    "\"The answer is : yes, do randomization by sorting instead of shuffling\"\n",
    "\"Would be O(N!*N*lgN)\"\n",
    "\n"
   ]
  },
  {
   "cell_type": "code",
   "execution_count": 60,
   "metadata": {
    "collapsed": true
   },
   "outputs": [],
   "source": [
    "import random\n",
    "def approx_mean_finder(A,o):\n",
    "    \"\"\"\n",
    "    Given list A (sorted) and o (a number between 0 and 0.5)\n",
    "    returns a number that is guaranteed to lie between the\n",
    "    50 - o/2% and 50 + o/2%. \n",
    "    \n",
    "    This is done by randomly selecting an element from the list and testing\n",
    "    wether or not it lies within the bounds. If it doesn't,\n",
    "    decide wether to retry. If you decide not, it fails.\n",
    "    \"\"\"\n",
    "\n",
    "    lower_index = math.ceil(len(A)*(50-(o/2))/100)\n",
    "    upper_index = math.floor(len(A)*(50+(o/2))/100)\n",
    "    \n",
    "    policy = 10\n",
    "    for _ in range(policy):\n",
    "        guess = random.choice(range(len(A)))\n",
    "        if guess >= lower_index and guess <= upper_index:\n",
    "            print guess\n",
    "            return True\n",
    "    print \"Failure\"\n",
    "    return False   \n",
    "\n",
    "# What is the probability of failure?\n",
    "    \"\"\"is prob of fail ** 10 (being the policy)\n",
    "    the prob of fail is (100-o)/100**10.\n",
    "    it scales with o\"\"\"\n",
    "    \n",
    "#Time complexity\n",
    "    \"\"\"prob of failure is pretty high, so it usually takes\n",
    "    O(1) ... if the list is not sorted, then it takes the list sorting\"\"\"\n",
    "#Space complexity\n",
    "\"\"\"that of the sorting procedure? def O(1) with what I did\"\"\"\n",
    "    "
   ]
  },
  {
   "cell_type": "code",
   "execution_count": 100,
   "metadata": {
    "collapsed": false
   },
   "outputs": [
    {
     "name": "stdout",
     "output_type": "stream",
     "text": [
      "Failure\n"
     ]
    },
    {
     "data": {
      "text/plain": [
       "False"
      ]
     },
     "execution_count": 100,
     "metadata": {},
     "output_type": "execute_result"
    }
   ],
   "source": [
    "lis = range(1000)\n",
    "\n",
    "approx_mean_finder(lis, .5)\n"
   ]
  }
 ],
 "metadata": {
  "anaconda-cloud": {},
  "kernelspec": {
   "display_name": "Python [Root]",
   "language": "python",
   "name": "Python [Root]"
  },
  "language_info": {
   "codemirror_mode": {
    "name": "ipython",
    "version": 2
   },
   "file_extension": ".py",
   "mimetype": "text/x-python",
   "name": "python",
   "nbconvert_exporter": "python",
   "pygments_lexer": "ipython2",
   "version": "2.7.12"
  }
 },
 "nbformat": 4,
 "nbformat_minor": 0
}
