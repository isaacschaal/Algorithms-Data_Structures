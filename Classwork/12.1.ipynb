{
 "cells": [
  {
   "cell_type": "markdown",
   "metadata": {},
   "source": [
    "Currency trading\n",
    "(Slightly simplified version of 15.3-6 from Cormen et al.)\n",
    "\n",
    "Imagine that you wish to exchange one currency for another. You realize that instead of directly exchanging one currency for another, you might be better off making a series of trades through other currencies, winding up with the currency you want. Suppose that you can trade n different currencies, numbered 1,2,… ,n, where you start with currency 1 and wish to wind up with currency n. You are given, for each pair of currencies i and j , an exchange rate rij , meaning that if you start with d units of currency i , you can trade for drij units of currency j.\n",
    "1. Assuming there is no commission, write python code to solve this problem.\n",
    "2. Look up the exchange rates for 3-4 currencies online. What solution does your code find?\n",
    "Here is some example data:\n",
    "USD 1 0.741 0.657 1.061 1.005\n",
    "EUR 1.349 1 0.888 1.433 1.366\n",
    "GBP 1.521 1.126 1 1.614 1.538\n",
    "CHF 0.942 0.698 0.619 1 0.953\n",
    "CAD 0.995 0.732 0.650 1.049 1\n",
    "\n",
    "(Optional) Tackle the full problem specified in 15.3-6\n",
    "\n"
   ]
  },
  {
   "cell_type": "code",
   "execution_count": null,
   "metadata": {
    "collapsed": true
   },
   "outputs": [],
   "source": [
    "n =    #currencies\n",
    "start = 1\n",
    "end = n\n",
    "\n",
    "r =[[1, 0.741, 0.657 ,1.061, 1.005],\n",
    "    [1.349 ,1, 0.888, 1.433 ,1.366],\n",
    "    [1.521 ,1.126, 1, 1.614 ,1.538],\n",
    "    [0.942, 0.698, 0.619, 1, 0.953],\n",
    "    [0.995, 0.732, 0.650, 1.049, 1]]\n",
    "\n",
    "def currency_trade(r,start,n):\n",
    "    end = n-1\n",
    "    optimal = r[start][end]\n",
    "    \n",
    "    \n",
    "\n"
   ]
  },
  {
   "cell_type": "markdown",
   "metadata": {},
   "source": [
    "Optimal Strategy for a Money Game\n",
    "Consider a row of n coins of values v(1) ... v(n), where n is even. We play a game against an opponent by alternating turns. In each turn, a player selects either the first or last coin from the row, removes it from the row permanently, and receives the value of the coin. Determine the maximum possible amount of money we can definitely win if we move first.\n",
    "For example, the game:\n",
    "$2, $10, $1, $5\n",
    "By moving first and playing optimally one can be guaranteed of $15. The first move is to take $5. This forces your opponent to take either $2 or $1, and then allows you to take $10."
   ]
  },
  {
   "cell_type": "code",
   "execution_count": null,
   "metadata": {
    "collapsed": true
   },
   "outputs": [],
   "source": [
    "v = [2,10,1,5]\n",
    "\n",
    "v = [10,1,2,2,5,10]\n",
    "\n",
    "#can make two choices, left or right\n",
    "\n",
    "def opt_strat(v,player):\n",
    "    \n",
    "    l = v[0] + opt_strat()\n",
    "    r = v[-1] + \n",
    "\n"
   ]
  },
  {
   "cell_type": "code",
   "execution_count": 8,
   "metadata": {},
   "outputs": [
    {
     "name": "stdout",
     "output_type": "stream",
     "text": [
      "13\n"
     ]
    }
   ],
   "source": [
    "def coin_game (array):\n",
    "\n",
    "\t# store visited combination\n",
    "\tmem_opt_values = {}\n",
    "\n",
    "\t#array of coins provided\n",
    "\tcoins = array\n",
    "\n",
    "\t# recursive function\n",
    "\tdef opt_coin(left, right, me_playing):\n",
    "\n",
    "\t\t# if visited, return a neutral value\n",
    "\t    if left >= right:\n",
    "\t        return 0\n",
    "\n",
    "\t    # if combination already visited, recall from array\n",
    "\t    if (left, right, me_playing) in mem_opt_values:\n",
    "\t        return mem_opt_values[(left, right, me_playing)]\n",
    "\n",
    "\t    # if it is my turn to play , choose the max option\n",
    "\t    if me_playing :\n",
    "\t        max_value = max(opt_coin(left + 1, right, False) + coins[left], opt_coin(left, right - 1, False) + coins[right])\n",
    "\t    \t\n",
    "\t    # if the other plays, I get the 'leftover' assuming the other player plays by the same strategy ( I get the the min value)\n",
    "\t    else:\n",
    "\t        max_value = min(opt_coin(left + 1, right, True), opt_coin(left, right - 1, True))\n",
    "\t    \t\n",
    "\n",
    "\n",
    "\t    # add visited combination to the mem array\n",
    "\t    mem_opt_values[(left, right, me_playing)] = max_value\n",
    "\t    \n",
    "\n",
    "\t    return max_value\n",
    " \n",
    "\treturn opt_coin(0, len(coins)-1, True)\n",
    "\n",
    "\n",
    "\n",
    "print (coin_game([1,2,6,4,5,6]))\n",
    "\n",
    "\n",
    "\n",
    "############################################################\n",
    "\n",
    "\n",
    "\n"
   ]
  },
  {
   "cell_type": "code",
   "execution_count": null,
   "metadata": {
    "collapsed": true
   },
   "outputs": [],
   "source": [
    "\n",
    "CURR = ['USD','EUR','GBP','CHF','CAD']\n",
    "\n",
    "exchange_price = [[1, 0.741, 0.657, 1.061, 1.005],\n",
    "[1.349, 1, 0.888, 1.433, 1.366],\n",
    "[1.521, 1.126, 1, 1.614, 1.538],\n",
    "[0.942, 0.698, 0.619, 1, 0.953],\n",
    "[0.995, 0.732, 0.650, 1.049, 1]]\n",
    "\n",
    "\n",
    "def relax (node, next_node, dist, weight = exchange_price, currencies = CURR):\n",
    "\tif dist[node] == None or dist[next_node] == None:\n",
    "\t\tdist[next_node] = weight[node][next_node]\n",
    "\telse:\n",
    "\t\tdist[next_node] = min( dist[node] + weight[node][next_node], dist[node])\n",
    "\tprint (dist)\n",
    "\n",
    "def BF (origin_index, weight = exchange_price, currencies = CURR):\n",
    "\tlength = len(currencies)\n",
    "\n",
    "\tdist = [None] * length\n",
    "\tdist[origin_index] = 0\n",
    "\n",
    "\tfor i in range(length-1):\n",
    "\t\tfor u in range(length):\n",
    "\t\t\tfor v in range(length):\n",
    "\t\t\t\trelax(u,v,dist)\n",
    "\t\n",
    "\tprint (dist)\n",
    "\t# for u in range(length):\n",
    "\n",
    "\n",
    "def shortest_path (origin_index, weight= exchange_price, currencies = CURR):\n",
    "\tlength = len(currencies)\n",
    "\n",
    "\torigin = currencies[origin_index]\n",
    "\tdist = [float('inf')] *length\n",
    "\tdist[0] = 0\n",
    "\n",
    "\tfor currency_index in range(1, length):\n",
    "\n",
    "\t\tfor x in range(length-1):\n",
    "\n",
    "\t\t\tfor y in range(length-1):\n",
    "\n",
    "\t\t\t\tdist[x] = min (dist[y], dist[x] + exchange_price[x][y])\n",
    "\n",
    "\treturn dist\n",
    "\n",
    "print (BF(2))"
   ]
  }
 ],
 "metadata": {
  "kernelspec": {
   "display_name": "Python 3",
   "language": "python",
   "name": "python3"
  },
  "language_info": {
   "codemirror_mode": {
    "name": "ipython",
    "version": 3
   },
   "file_extension": ".py",
   "mimetype": "text/x-python",
   "name": "python",
   "nbconvert_exporter": "python",
   "pygments_lexer": "ipython3",
   "version": "3.6.3"
  }
 },
 "nbformat": 4,
 "nbformat_minor": 2
}
