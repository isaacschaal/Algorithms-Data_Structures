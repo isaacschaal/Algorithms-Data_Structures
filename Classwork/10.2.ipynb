{
 "cells": [
  {
   "cell_type": "markdown",
   "metadata": {},
   "source": [
    "Fibonacci numbers\n",
    "In session 5.2, you analyzed the following version of Fibonacci:\n",
    "def fib(n):\n",
    "    if n <= 0:\n",
    "        return 0\n",
    "    if n == 1:\n",
    "        return 1\n",
    "    return fib(n-1) + fib(n-2)\n",
    "In the spirit of the rod-cutting examples given in the textbook, write your own memoized version of Fibonacci, and a bottom-up version."
   ]
  },
  {
   "cell_type": "code",
   "execution_count": 34,
   "metadata": {},
   "outputs": [
    {
     "name": "stdout",
     "output_type": "stream",
     "text": [
      "5\n",
      "5\n"
     ]
    }
   ],
   "source": [
    "def fib(n):\n",
    "    if n <= 0:\n",
    "        return 0\n",
    "    if n == 1:\n",
    "        return 1\n",
    "    return fib(n-1) + fib(n-2)\n",
    "\n",
    "def dyn_fib(n):\n",
    "    if n <= 0:\n",
    "        return 0\n",
    "    if n == 1:\n",
    "        return 1\n",
    "    array = [0 for i in range(n+1)]\n",
    "    array[1] = 1\n",
    "    for j in range(2,n+1):\n",
    "        array[j] = array[j-1]+array[j-2]\n",
    "    return array[-1]\n",
    "            \n",
    "num = 5   \n",
    "print (dyn_fib(num))\n",
    "print (fib(num))"
   ]
  },
  {
   "cell_type": "markdown",
   "metadata": {},
   "source": [
    "Rod-cutting without dynamic programming\n",
    "1. Implement CUT-ROD(p, n) in python code (NB - not the dynamic programming version)\n",
    "2. Time the function for different values of n.\n",
    "3. Plot the results.\n",
    "4. Estimate how big n has to be before it will take a million years to finish. (Call this value: N, and use it in the next section)"
   ]
  },
  {
   "cell_type": "code",
   "execution_count": 94,
   "metadata": {},
   "outputs": [
    {
     "data": {
      "text/plain": [
       "22"
      ]
     },
     "execution_count": 94,
     "metadata": {},
     "output_type": "execute_result"
    }
   ],
   "source": [
    "def CUT_ROD(p,n):\n",
    "    if n == -1:\n",
    "        return 0\n",
    "    q = -1\n",
    "    for i in range(n):\n",
    "        q = max(q, p[i] + CUT_ROD(p,n-1))\n",
    "    return q\n",
    "\n",
    "p = [1,5,8,9,10,17,17,20,24,30]\n",
    "\n",
    "CUT_ROD(p,4)"
   ]
  },
  {
   "cell_type": "code",
   "execution_count": null,
   "metadata": {
    "collapsed": true
   },
   "outputs": [],
   "source": [
    "Rod-cutting with dynamic programming\n",
    "1. Implement PRINT-CUT-ROD-SOLUTION(p, n) in python code\n",
    "2. Time the function for different values of n.\n",
    "3. Plot the results on the same plot as the non-dynamic programming solution.\n",
    "4. Estimate (or time) how long does it take to evaluate PRINT-CUT-ROD-SOLUTION(p, N)? (Where N is the value you got from the previous section)\n",
    "(Optional) Do you notice anything about the solution for large n?\n",
    "\n"
   ]
  },
  {
   "cell_type": "code",
   "execution_count": 96,
   "metadata": {},
   "outputs": [
    {
     "name": "stdout",
     "output_type": "stream",
     "text": [
      "4\n"
     ]
    }
   ],
   "source": [
    "import math\n",
    "import numpy as np\n",
    "\n",
    "def print_cut_rod_solution(p,n):\n",
    "    (r,s) = extended_bottom_up_cut(p,n)\n",
    "    while n>0:\n",
    "        print (s[n])\n",
    "        n = n - s[n]\n",
    "        \n",
    "\n",
    "def extended_bottom_up_cut(p,n):\n",
    "    r = [0 for i in range(n+1)]\n",
    "    s = [0 for i in range(n+1)]\n",
    "    for j in range(1,n+1):\n",
    "        q = -np.inf\n",
    "        for i in range(1,j+1):\n",
    "            if q < p[i] + r[j-1]:\n",
    "                q = p[i] + r[j-i]\n",
    "                s[j] = i\n",
    "        r[j] = q\n",
    "    return r,s\n",
    "            \n",
    "print_cut_rod_solution(p,4)  \n"
   ]
  },
  {
   "cell_type": "code",
   "execution_count": 86,
   "metadata": {},
   "outputs": [
    {
     "name": "stdout",
     "output_type": "stream",
     "text": [
      "None\n"
     ]
    }
   ],
   "source": [
    "p = [random.choice([i for i in range(100)]) for i in range(10000)]\n",
    "\n",
    "\n",
    "print (print_cut_rod_solution(p,60)  )"
   ]
  },
  {
   "cell_type": "code",
   "execution_count": 88,
   "metadata": {
    "collapsed": true
   },
   "outputs": [],
   "source": [
    "for i in range(10000):\n",
    "    for j in range(10000):\n",
    "        i = 1 + 2"
   ]
  },
  {
   "cell_type": "code",
   "execution_count": 83,
   "metadata": {},
   "outputs": [
    {
     "data": {
      "image/png": "[encoded data removed]",
      "text/plain": [
       "<matplotlib.figure.Figure at 0x109d46710>"
      ]
     },
     "metadata": {},
     "output_type": "display_data"
    }
   ],
   "source": [
    "import time\n",
    "import random\n",
    "\n",
    "def time_fun(fun,p,n):\n",
    "    start = time.time()\n",
    "    fun(p,n)\n",
    "    return time.time() - start\n",
    "\n",
    "p = [random.choice([i for i in range(100)]) for i in range(10000)]\n",
    "\n",
    "time_fun(print_cut_rod_solution, p, 100)\n",
    "\n",
    "\n",
    "numb = 25\n",
    "\n",
    "results_1 = [None for i in range(numb)]\n",
    "results_2 = [None for i in range(numb)]\n",
    "\n",
    "for i in range(numb):\n",
    "    results_1[i] = time_fun(print_cut_rod_solution, p,i)\n",
    "    #results_2[i] = time_fun(CUT_ROD, p,i)\n",
    "    \n",
    "\n",
    "plt.style.use('ggplot')\n",
    "plt.plot(results_1)\n",
    "plt.show()"
   ]
  }
 ],
 "metadata": {
  "kernelspec": {
   "display_name": "Python 3",
   "language": "python",
   "name": "python3"
  },
  "language_info": {
   "codemirror_mode": {
    "name": "ipython",
    "version": 3
   },
   "file_extension": ".py",
   "mimetype": "text/x-python",
   "name": "python",
   "nbconvert_exporter": "python",
   "pygments_lexer": "ipython3",
   "version": "3.6.3"
  }
 },
 "nbformat": 4,
 "nbformat_minor": 2
}
