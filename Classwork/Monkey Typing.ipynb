{
 "cells": [
  {
   "cell_type": "code",
   "execution_count": 161,
   "metadata": {},
   "outputs": [
    {
     "name": "stdout",
     "output_type": "stream",
     "text": [
      " l bqndbdmdpqe pujtvxnmt cjv\n",
      "2\n",
      "After 50000 tries, the best string is  nitxnsrs ik cg r uevv wu alz with a score of 9\n"
     ]
    },
    {
     "data": {
      "text/plain": [
       "'nitxnsrs ik cg r uevv wu alz'"
      ]
     },
     "execution_count": 161,
     "metadata": {},
     "output_type": "execute_result"
    }
   ],
   "source": [
    "from random import choice\n",
    "from string import ascii_lowercase\n",
    "\n",
    "def random_string_27():\n",
    "    \n",
    "    \"\"\"This function creates a string of 28 randomally choosen letters and spaces \"\"\"\n",
    "    \n",
    "    return \"\".join(choice(ascii_lowercase + \" \" * 5) for i in range(28))\n",
    "\n",
    "\n",
    "def random_string_checker(x):\n",
    "    check = \"methinks it is like a weasel\"\n",
    "    score = 0\n",
    "    for i in range(len(check)):\n",
    "        if check[i] == x[i]:\n",
    "            score +=1\n",
    "    return score\n",
    "\n",
    "\n",
    "def monkeys():\n",
    "    counter = 0\n",
    "    best_score = 0\n",
    "    best_string = \"\"\n",
    "    done = False \n",
    "    while counter < 10000 and not done:\n",
    "        test = random_string_27()\n",
    "        score = random_string_checker(test)\n",
    "        if score == 27:\n",
    "            done = True\n",
    "            best_score = score\n",
    "            best_string = test\n",
    "            counter += 1\n",
    "        elif score > best_score:\n",
    "            best_score = score\n",
    "            best_string = test\n",
    "            counter += 1\n",
    "        else:\n",
    "            counter += 1\n",
    "\n",
    "    print \"After\", counter, \"tries, the best string is \", best_string,\"with a score of\", best_score\n",
    "    return best_string\n",
    "        \n",
    "monkeys()\n",
    "\n"
   ]
  }
 ],
 "metadata": {
  "anaconda-cloud": {},
  "kernelspec": {
   "display_name": "Python 3",
   "language": "python",
   "name": "python3"
  },
  "language_info": {
   "codemirror_mode": {
    "name": "ipython",
    "version": 3
   },
   "file_extension": ".py",
   "mimetype": "text/x-python",
   "name": "python",
   "nbconvert_exporter": "python",
   "pygments_lexer": "ipython3",
   "version": "3.7.0"
  }
 },
 "nbformat": 4,
 "nbformat_minor": 1
}
