{
 "cells": [
  {
   "cell_type": "code",
   "execution_count": 3,
   "metadata": {
    "collapsed": false,
    "scrolled": true
   },
   "outputs": [
    {
     "name": "stdout",
     "output_type": "stream",
     "text": [
      "[3, 9, 1, 5, 2, 56, 23, 4]\n",
      "p,r 0 7\n",
      "p,r 0 3\n",
      "p,r 0 1\n",
      "p,r 0 0\n",
      "p,r 1 1\n",
      "merge!\n",
      "Left list is [3] and Right list is [9]\n",
      "[3, 9, 1, 5, 2, 56, 23, 4]\n",
      "p,r 2 3\n",
      "p,r 2 2\n",
      "p,r 3 3\n",
      "merge!\n",
      "Left list is [1] and Right list is [5]\n",
      "[3, 9, 1, 5, 2, 56, 23, 4]\n",
      "merge!\n",
      "Left list is [3, 9] and Right list is [1, 5]\n",
      "[1, 3, 5, 9, 2, 56, 23, 4]\n",
      "p,r 4 7\n",
      "p,r 4 5\n",
      "p,r 4 4\n",
      "p,r 5 5\n",
      "merge!\n",
      "Left list is [2] and Right list is [56]\n",
      "[1, 3, 5, 9, 2, 56, 23, 4]\n",
      "p,r 6 7\n",
      "p,r 6 6\n",
      "p,r 7 7\n",
      "merge!\n",
      "Left list is [23] and Right list is [4]\n",
      "[1, 3, 5, 9, 2, 56, 4, 23]\n",
      "merge!\n",
      "Left list is [2, 56] and Right list is [4, 23]\n",
      "[1, 3, 5, 9, 2, 4, 23, 56]\n",
      "merge!\n",
      "Left list is [1, 3, 5, 9] and Right list is [2, 4, 23, 56]\n",
      "[1, 2, 3, 4, 5, 9, 23, 56]\n"
     ]
    },
    {
     "data": {
      "text/plain": [
       "[1, 2, 3, 4, 5, 9, 23, 56]"
      ]
     },
     "execution_count": 3,
     "metadata": {},
     "output_type": "execute_result"
    }
   ],
   "source": [
    "import numpy as np\n",
    "\n",
    "[0,1,2,3,4]\n",
    "\n",
    "\n",
    "def merge(A,p,q,r):\n",
    "    #sets the length of the two lists, \n",
    "    # the sum of which is equal to\n",
    "    # the total lenght\n",
    "    n_1 = q-p+1\n",
    "    n_2 = r-q\n",
    "    #Creates the L and R lists to be merged\n",
    "    L = []\n",
    "    R = []\n",
    "    #Populates L and R with the appropriate half of A\n",
    "    for i in range(0,n_1):\n",
    "        L.append(A[p+i])     \n",
    "    for j in range(0,n_2):\n",
    "        R.append(A[q+j+1])\n",
    "    print \"Left list is\",L ,\"and Right list is\",R\n",
    "    #add an inf term to the end of each list,\n",
    "    # so when compared to it is always greater\n",
    "    L.append(np.inf)\n",
    "    R.append (np.inf)\n",
    "    #initializes the counters\n",
    "    i = 0\n",
    "    j = 0\n",
    "    # goes through lists L and R, comparing the \n",
    "    # first elements, and choosing the smallest\n",
    "    for k in range(p,r+1):\n",
    "        if L[i] <= R[j]:\n",
    "            A[k] = L[i]\n",
    "            i +=1\n",
    "        else:\n",
    "            A[k] = R[j]\n",
    "            j +=1\n",
    "    \n",
    "def merge_sort(A,p,r):\n",
    "    print \"p,r\",p, r\n",
    "    \"\"\"recursivley calls itself, dividing the list\n",
    "    into groups of length one, once this is accomplished, \n",
    "    it merges them all together, in an increasing fashion\n",
    "    1+1, 1+1, 2+2, 1+1, 1+1, 2+2, 4+4, etc.\"\"\"\n",
    "    if p<r:\n",
    "        q = (p+r)/2\n",
    "        merge_sort(A,p,q)\n",
    "        merge_sort(A,q+1,r)\n",
    "        print \"merge!\"\n",
    "        merge(A,p,q,r)\n",
    "        print A\n",
    "    return A\n",
    "\n",
    "hey = [3,9,1,5,2,56,23,4]\n",
    "print hey\n",
    "merge_sort(hey, 0, 7)\n"
   ]
  },
  {
   "cell_type": "code",
   "execution_count": 2,
   "metadata": {
    "collapsed": false
   },
   "outputs": [
    {
     "name": "stdout",
     "output_type": "stream",
     "text": [
      "7\n",
      "Merge sort took 5.88893890381e-05 to run\n"
     ]
    },
    {
     "data": {
      "text/plain": [
       "[1, 2, 3, 5, 9, 23, 56]"
      ]
     },
     "execution_count": 2,
     "metadata": {},
     "output_type": "execute_result"
    }
   ],
   "source": [
    "import numpy as np\n",
    "import time\n",
    "\n",
    "\n",
    "\n",
    "\n",
    "\n",
    "def merge(A,p,q,r):\n",
    "    n_1 = q-p+1\n",
    "    n_2 = r-q\n",
    "    L = []\n",
    "    R = []\n",
    "    for i in range(0,n_1):\n",
    "        L.append(A[p+i])     \n",
    "    for j in range(0,n_2):\n",
    "        R.append(A[q+j+1])\n",
    "    L.append(np.inf)\n",
    "    R.append (np.inf)\n",
    "    i = 0\n",
    "    j = 0\n",
    "    for k in range(p,r+1):\n",
    "        if L[i] <= R[j]:\n",
    "            A[k] = L[i]\n",
    "            i +=1\n",
    "        else:\n",
    "            A[k] = R[j]\n",
    "            j +=1\n",
    "    \n",
    "def merge_sort(A,p,r):\n",
    "    if p<r:\n",
    "        q = (p+r)/2\n",
    "        merge_sort(A,p,q)\n",
    "        merge_sort(A,q+1,r)\n",
    "        merge(A,p,q,r)\n",
    "    return A\n",
    "\n",
    "def merge_sort_simple(A):\n",
    "    \n",
    "    \"\"\"input a list to be sorted\"\"\"\n",
    "    start_time = time.time()\n",
    "    \n",
    "    init_r = len(A)-1\n",
    "    init_p = 0\n",
    "    merge_sort(A,init_p,init_r)\n",
    "    print \"Merge sort took\", time.time() - start_time, \"to run\"\n",
    "    return A\n",
    "\n",
    "\n",
    "hey = [3,9,1,5,2,56,23]\n",
    "print len(hey)\n",
    "\n",
    "\n",
    "merge_sort_simple(hey)\n",
    "#cProfile.run(\"merge_sort_simple(hey)\")\n"
   ]
  },
  {
   "cell_type": "markdown",
   "metadata": {},
   "source": [
    "[3,41,52,26,38,57,9,49]\n",
    "\n",
    "[3,41], [26,52], [38,57], [9,49]\n",
    "\n",
    "[3,26,41,52], [9,38,49,57]\n",
    "\n",
    "[3,9,26,38,41,49,52,57]\n",
    "\n",
    "\n"
   ]
  }
 ],
 "metadata": {
  "anaconda-cloud": {},
  "kernelspec": {
   "display_name": "Python [Root]",
   "language": "python",
   "name": "Python [Root]"
  },
  "language_info": {
   "codemirror_mode": {
    "name": "ipython",
    "version": 2
   },
   "file_extension": ".py",
   "mimetype": "text/x-python",
   "name": "python",
   "nbconvert_exporter": "python",
   "pygments_lexer": "ipython2",
   "version": "2.7.12"
  }
 },
 "nbformat": 4,
 "nbformat_minor": 0
}
