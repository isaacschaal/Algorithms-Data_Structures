{
 "cells": [
  {
   "cell_type": "raw",
   "metadata": {},
   "source": [
    "\n",
    "Def bfms(array):\n",
    "\tAll_subarrays = []\n",
    "\tFor j in len array:\n",
    "\t\tj_array = []\n",
    "\t\tIf j = 0:\n",
    "\t\t\tFor I in range(len array):\n",
    "\t\t\t\tIf I = 0:\n",
    "\t\t\t\t\tj_array[i] =array[0]\n",
    "\t\t\t\tElse:\n",
    "\t\t\t\t\tj_array[i] = array[i] + j_array[i-1]\n",
    "\t\t\tAll_subarrays.append(j_array)\n",
    "\t\tElse:\n",
    "\t\t\tJ_array = all_subarrays[j-1] - all_subbarays[j-1][j-1]\n",
    "\tReturn max(all_subarrays)  #How do I get the index?\n",
    "    \n",
    "    \n",
    "\t\t\t\n",
    "Def bfms_slow(array):\n",
    "\tAll_subarrays = []\n",
    "\tFor j in len array:\n",
    "\t\tj_array = []\n",
    "\t\tFor I in range(j, len array):\n",
    "\t\t\tIf I = j:\n",
    "\t\t\t\tj_array[i] =array[j]\n",
    "\t\t\tElse:\n",
    "\t\t\t\tj_array[i] = array[i] + j_array[i-1]\n",
    "Return max(all_subarrays)  #How do I get the index?\n"
   ]
  },
  {
   "cell_type": "code",
   "execution_count": 1,
   "metadata": {
    "collapsed": false
   },
   "outputs": [
    {
     "data": {
      "image/png": "[encoded data removed]",
      "text/plain": [
       "<matplotlib.figure.Figure at 0x104bd78d0>"
      ]
     },
     "metadata": {},
     "output_type": "display_data"
    }
   ],
   "source": [
    "import matplotlib\n",
    "#matplotlib.use('TkAgg')\n",
    "import matplotlib.pyplot as plt\n",
    "from math import log\n",
    "import numpy as np\n",
    "%matplotlib inline\n",
    "\n",
    "def f(x):\n",
    "    return log(x)\n",
    "\n",
    "# evenly sampled time at 200ms intervals\n",
    "t = np.arange(0., 10, 1)\n",
    " \n",
    "\n",
    "# red dashes, blue squares and green triangles\n",
    "#plt.plot(t, t**2,t, 2**t, t,log(t))\n",
    "# evenly sampled time at 200ms intervals\n",
    "#t = np.arange(0., 5., 0.2)\n",
    "\n",
    "# red dashes, blue squares and green triangles\n",
    "plt.plot(t, 2**t, t, t**2, t, t)\n",
    "plt.show()\n",
    "\n",
    "\n",
    "#HOW TO PLOT LOG???\n",
    "#ALSO whats up with matplotlib, like whats the way to do it \"\"\"\n",
    "\n",
    "#plt.plot(lambda x: x**2)\n",
    "# plt.plot(f())\n",
    "# plt.plot(lambda x: 2**x)\n",
    "# plt.plot(lambda x: log(x))\n",
    "\n",
    "\n",
    "# plt.ylabel('some numbers')\n",
    "\n",
    "\n",
    "# plt.show()"
   ]
  },
  {
   "cell_type": "code",
   "execution_count": 2,
   "metadata": {
    "collapsed": false
   },
   "outputs": [
    {
     "name": "stdout",
     "output_type": "stream",
     "text": [
      "whats up\n"
     ]
    }
   ],
   "source": [
    "print (\"whats up\")"
   ]
  }
 ],
 "metadata": {
  "anaconda-cloud": {},
  "kernelspec": {
   "display_name": "Python [Root]",
   "language": "python",
   "name": "Python [Root]"
  },
  "language_info": {
   "codemirror_mode": {
    "name": "ipython",
    "version": 2
   },
   "file_extension": ".py",
   "mimetype": "text/x-python",
   "name": "python",
   "nbconvert_exporter": "python",
   "pygments_lexer": "ipython2",
   "version": "2.7.12"
  }
 },
 "nbformat": 4,
 "nbformat_minor": 0
}
