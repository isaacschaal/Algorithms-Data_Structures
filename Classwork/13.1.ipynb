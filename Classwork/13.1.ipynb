{
 "cells": [
  {
   "cell_type": "code",
   "execution_count": 8,
   "metadata": {},
   "outputs": [
    {
     "ename": "TypeError",
     "evalue": "Unicode-objects must be encoded before hashing",
     "output_type": "error",
     "traceback": [
      "\u001b[0;31m---------------------------------------------------------------------------\u001b[0m",
      "\u001b[0;31mTypeError\u001b[0m                                 Traceback (most recent call last)",
      "\u001b[0;32m<ipython-input-8-899b97a1d10e>\u001b[0m in \u001b[0;36m<module>\u001b[0;34m()\u001b[0m\n\u001b[1;32m    101\u001b[0m \u001b[0;34m\u001b[0m\u001b[0m\n\u001b[1;32m    102\u001b[0m \u001b[0memail\u001b[0m \u001b[0;34m=\u001b[0m \u001b[0;34m'isaac@minerva.kgi.edu'\u001b[0m\u001b[0;34m\u001b[0m\u001b[0m\n\u001b[0;32m--> 103\u001b[0;31m \u001b[0mprint\u001b[0m\u001b[0;34m(\u001b[0m\u001b[0mwhich_problem\u001b[0m\u001b[0;34m(\u001b[0m\u001b[0memail\u001b[0m\u001b[0;34m,\u001b[0m \u001b[0;34m'12.1'\u001b[0m\u001b[0;34m,\u001b[0m \u001b[0;34m[\u001b[0m\u001b[0;34m'directions'\u001b[0m\u001b[0;34m,\u001b[0m \u001b[0;34m'aquarium'\u001b[0m\u001b[0;34m,\u001b[0m \u001b[0;34m'baggage'\u001b[0m\u001b[0;34m]\u001b[0m\u001b[0;34m)\u001b[0m\u001b[0;34m)\u001b[0m\u001b[0;34m\u001b[0m\u001b[0m\n\u001b[0m",
      "\u001b[0;32m<ipython-input-8-899b97a1d10e>\u001b[0m in \u001b[0;36mwhich_problem\u001b[0;34m(email, seminar, problems)\u001b[0m\n\u001b[1;32m     96\u001b[0m     \u001b[0;32massert\u001b[0m \u001b[0;34m\"@minerva.kgi.edu\"\u001b[0m \u001b[0;32min\u001b[0m \u001b[0memail\u001b[0m\u001b[0;34m\u001b[0m\u001b[0m\n\u001b[1;32m     97\u001b[0m     \u001b[0mseminar\u001b[0m \u001b[0;34m=\u001b[0m \u001b[0mseminar\u001b[0m\u001b[0;34m.\u001b[0m\u001b[0mstrip\u001b[0m\u001b[0;34m(\u001b[0m\u001b[0;34m)\u001b[0m\u001b[0;34m.\u001b[0m\u001b[0mlower\u001b[0m\u001b[0;34m(\u001b[0m\u001b[0;34m)\u001b[0m\u001b[0;34m\u001b[0m\u001b[0m\n\u001b[0;32m---> 98\u001b[0;31m     \u001b[0mmd5\u001b[0m \u001b[0;34m=\u001b[0m \u001b[0mhashlib\u001b[0m\u001b[0;34m.\u001b[0m\u001b[0mmd5\u001b[0m\u001b[0;34m(\u001b[0m\u001b[0memail\u001b[0m \u001b[0;34m+\u001b[0m \u001b[0mseminar\u001b[0m\u001b[0;34m)\u001b[0m\u001b[0;34m.\u001b[0m\u001b[0mhexdigest\u001b[0m\u001b[0;34m(\u001b[0m\u001b[0;34m)\u001b[0m\u001b[0;34m\u001b[0m\u001b[0m\n\u001b[0m\u001b[1;32m     99\u001b[0m     \u001b[0mind\u001b[0m \u001b[0;34m=\u001b[0m \u001b[0mint\u001b[0m\u001b[0;34m(\u001b[0m\u001b[0mmd5\u001b[0m\u001b[0;34m,\u001b[0m \u001b[0;36m16\u001b[0m\u001b[0;34m)\u001b[0m \u001b[0;34m%\u001b[0m \u001b[0mlen\u001b[0m\u001b[0;34m(\u001b[0m\u001b[0mproblems\u001b[0m\u001b[0;34m)\u001b[0m\u001b[0;34m\u001b[0m\u001b[0m\n\u001b[1;32m    100\u001b[0m     \u001b[0;32mreturn\u001b[0m \u001b[0mproblems\u001b[0m\u001b[0;34m[\u001b[0m\u001b[0mind\u001b[0m\u001b[0;34m]\u001b[0m\u001b[0;34m\u001b[0m\u001b[0m\n",
      "\u001b[0;31mTypeError\u001b[0m: Unicode-objects must be encoded before hashing"
     ]
    }
   ],
   "source": [
    "# Instructions:\n",
    "# -------------\n",
    "#  1. This is a valid python file. Update the code at the bottom to include\n",
    "#     your student email address.\n",
    "#  2. Run the code to find out which one of the problems you need to do.\n",
    "#  3. Solve your assigned problem.  Since the assignment is deterministic, you\n",
    "#     can also find out who else is working on the same problem.  Feel free to\n",
    "#     approach other students if you get stuck conceptually, but write your\n",
    "#     code by yourself.\n",
    "#  4. Now answer the following questions on your solution\n",
    "#     a) Define variables which will be useful in determining the computational\n",
    "#        complexity of your solution.\n",
    "#     b) How does it scale in terms of time (using your variables from a)?\n",
    "#     c) How does it scale in terms of space (using your variables from a)?\n",
    "#     d) Each problem has an example so that you can see how to structure your\n",
    "#        solution.  However the answers to the examples are wrong.  What is the\n",
    "#        actual answer for your example documentation?\n",
    "#\n",
    "# Directions:\n",
    "# -----------\n",
    "#\n",
    "# You and your friends rented a bus and have gotten lost.  This is because the\n",
    "# person with the map was sitting at the back of the bus and gave directions to\n",
    "# the person in front of them.  This person then told the person in front of them.\n",
    "# Eventually the directions reached the driver in the front.  Occasionally someone\n",
    "# would make a mistake, and they would either:\n",
    "#  - leave out a step,\n",
    "#  - add a step,\n",
    "#  - give the wrong instruction.\n",
    "#\n",
    "# Each direction was either \"Straight\", \"Left\", or \"Right\".\n",
    "#\n",
    "# You and you friends would like to figure out who made the most mistakes.\n",
    "# Fortunately everyone wrote down the instructions they gave. Write a function\n",
    "# ('blame') to figure out who is to blame.\n",
    "#\n",
    "# directions = [('map', 'SSSRSSLRLS'), ('jane', 'SSRSLSLSSRLS'), ('jayna',\n",
    "#                'SRSLSLSRLS'), ('jomo', 'SRSLRRSLSRSLSR')]\n",
    "#\n",
    "# >>> print(blame(directions))\n",
    "# 'jayna'\n",
    "#\n",
    "# Aquarium:\n",
    "# -----------\n",
    "#\n",
    "# The Cape Town aquarium is designing a new feature and asks you to help. There\n",
    "# will be fish tanks of different sizes all arranged in a large circle. Each fish\n",
    "# tank will only contain fish from a single species. If the same fish species are\n",
    "# stocked in adjacent tanks then they will continually attempt to fight and\n",
    "# eventually will die of stress.\n",
    "#\n",
    "# You will be given a list of fish species, and how much it costs to stock those\n",
    "# fish per liter of water. You will also be given a list of the tanks and how many\n",
    "# liters each tank is. Your job is to find which fish should be stocked in which\n",
    "# tank to achieve minimum cost without incurring any stress on the fish.\n",
    "#\n",
    "# Don't forget that the tanks are in a circle, so the beginning and ending tanks\n",
    "# also mustn't contain the same species either.\n",
    "#\n",
    "# >>> tanks = [10, 15, 200, 35, 18, 99, 99, 10]\n",
    "# >>> fish = [('shark', 12.1), ('marlin', 8.1), ('sole', 9.1)]\n",
    "# >>> print(aquarium(tanks, fish))\n",
    "# ['marlin', 'sole', 'marlin', 'sole', 'marlin', 'sole', 'marlin', 'shark']\n",
    "#\n",
    "#\n",
    "# Baggage:\n",
    "# -----------\n",
    "#\n",
    "# Next semester you need to move to a new country.  You have lots of useful things\n",
    "# that you'd like to take with you, but your baggage allowance for the flight is\n",
    "# very small.  The airline does allow you to pay extra for each bag that you want\n",
    "# to take.  Anything that you don't pack you will need to buy in the new country.\n",
    "#\n",
    "# You need to decide how many extra bags to take, and what you should pack in\n",
    "# those bags.\n",
    "#\n",
    "# >>> weights = {'glasses': 1.0,'plates': 0.7, 'coffee': 1.1,'keyboard': 1.1,\n",
    "#                'pens': 2.1, 'socks': 0.5, 'undies': 0.3, 'laptop': 2.1,\n",
    "#                'jersey': 0.5, 'shoes': 0.7, 'jeans': 1.1}\n",
    "# >>> values = {'glasses': 0.1,'plates': 0.1, 'coffee': 0.1,'keyboard': 0.1,\n",
    "#               'pens': 1.1, 'socks': 3.1, 'undies': 3.1, 'laptop': 10.1,\n",
    "#               'jersey': 2.1, 'shoes': 2.1, 'jeans': 2.1}\n",
    "# >>> baggage_limit = 3\n",
    "# >>> extra_cost = 10\n",
    "# >>> print(baggage(weights, values, baggage_limit, extra_cost))\n",
    "# [['socks', 'undies', 'laptop'], ['jersey', 'shoes', 'jeans']]\n",
    "#\n",
    "#\n",
    "\n",
    "import hashlib\n",
    "\n",
    "\n",
    "\n",
    "def which_problem(email, seminar, problems):\n",
    "    email = email.strip().lower()\n",
    "    assert \"@minerva.kgi.edu\" in email\n",
    "    seminar = seminar.strip().lower()\n",
    "    md5 = hashlib.md5(email + seminar).hexdigest()\n",
    "    ind = int(md5, 16) % len(problems)\n",
    "    return problems[ind]\n",
    "\n",
    "email = 'isaac@minerva.kgi.edu'\n",
    "print(which_problem(email, '12.1', ['directions', 'aquarium', 'baggage']))"
   ]
  },
  {
   "cell_type": "markdown",
   "metadata": {},
   "source": [
    "Instructions:\n",
    "-------------\n",
    " 1. This is a valid python file. Update the code at the bottom to include\n",
    "    your student email address.\n",
    " 2. Run the code to find out which one of the problems you need to do.\n",
    " 3. Solve your assigned problem.  Since the assignment is deterministic, you\n",
    "    can also find out who else is working on the same problem.  Feel free to\n",
    "    approach other students if you get stuck conceptually, but write your\n",
    "    code by yourself.\n",
    " 4. Now answer the following questions on your solution\n",
    "    a) Define variables which will be useful in determining the computational\n",
    "       complexity of your solution.\n",
    "    b) How does it scale in terms of time (using your variables from a)?\n",
    "    c) How does it scale in terms of space (using your variables from a)?\n",
    "    d) Each problem has an example so that you can see how to structure your\n",
    "       solution.  However the answers to the examples are wrong.  What is the\n",
    "       actual answer for your example documentation?\n",
    "\n",
    "\n",
    "Aquarium:\n",
    "-----------\n",
    "\n",
    "The Cape Town aquarium is designing a new feature and asks you to help. There\n",
    "will be fish tanks of different sizes all arranged in a large circle. Each fish\n",
    "tank will only contain fish from a single species. If the same fish species are\n",
    "stocked in adjacent tanks then they will continually attempt to fight and\n",
    "eventually will die of stress.\n",
    "\n",
    "You will be given a list of fish species, and how much it costs to stock those\n",
    "fish per liter of water. You will also be given a list of the tanks and how many\n",
    "liters each tank is. Your job is to find which fish should be stocked in which\n",
    "tank to achieve minimum cost without incurring any stress on the fish.\n",
    "\n",
    "Don't forget that the tanks are in a circle, so the beginning and ending tanks\n",
    "also mustn't contain the same species either.\n",
    "\n",
    ">>> tanks = [10, 15, 200, 35, 18, 99, 99, 10]\n",
    ">>> fish = [('shark', 12.1), ('marlin', 8.1), ('sole', 9.1)]\n",
    ">>> print(aquarium(tanks, fish))\n",
    "['marlin', 'sole', 'marlin', 'sole', 'marlin', 'sole', 'marlin', 'shark']\n"
   ]
  },
  {
   "cell_type": "code",
   "execution_count": null,
   "metadata": {
    "collapsed": true
   },
   "outputs": [],
   "source": [
    "# list of fish + cost /liter\n",
    "fish = [('shark', 12.1), ('marlin', 8.1), ('sole', 9.1)]\n",
    "\n",
    "#list of tanks\n",
    "tanks = [10, 15, 200, 35, 18, 99, 99, 10]\n",
    "\n",
    "#NO STRESS HAS TO HAPPEN\n",
    "# MINIMUM COST\n",
    "\n",
    "\n",
    "x = 9.1\n",
    "y = 8.1\n",
    "\n",
    "def right(x):\n",
    "    327\n",
    "    \n",
    "    159\n",
    "    \n",
    "    m = 200, 99, 188, 10 \n",
    "    s = "
   ]
  },
  {
   "cell_type": "code",
   "execution_count": 12,
   "metadata": {},
   "outputs": [
    {
     "data": {
      "text/plain": [
       "4095.5999999999995"
      ]
     },
     "execution_count": 12,
     "metadata": {},
     "output_type": "execute_result"
    }
   ],
   "source": [
    "327 * 8.1 + 159 * 9.1"
   ]
  },
  {
   "cell_type": "code",
   "execution_count": 53,
   "metadata": {},
   "outputs": [
    {
     "name": "stdout",
     "output_type": "stream",
     "text": [
      "The lowest overall cost is 361.2 with fish set up ['marlin', 'sole', 'marlin', 'sole', 'sole', 'marlin', 'sole', 'marlin']\n"
     ]
    }
   ],
   "source": [
    "def aquarium(tanks, fish):\n",
    "    d = [[None for x in range(len(fish))] for y in range(len(tanks))] \n",
    "    p = [[None for x in range(len(fish))] for y in range(len(tanks))]\n",
    "    # FIRST ROW: add the cost of each fish, name of each fish\n",
    "    for i in range(len(fish)): # for each fish\n",
    "        d[0][i] = tanks[0] * fish[i][1] # cost of each fish in the tank\n",
    "        p[0][i] = fish[i][0] # name of fish\n",
    "    # ALL ROWS BUT THE LAST\n",
    "    for i in range(1,len(tanks)-1): \n",
    "        for j in range(len(fish)): \n",
    "            cost = []\n",
    "            # Find the fish which adds the lowest\n",
    "            for x in range(len(fish)): \n",
    "                if p[i-1][j] != fish[x][0]: \n",
    "                    cost.append(d[i-1][j] + tanks[i] * fish[x][1]) \n",
    "            # Add that fish for that spot\n",
    "            for x in range(len(fish)): \n",
    "                if d[i-1][j] + tanks[i] * fish[x][1] == min(cost): \n",
    "                    d[i][j] = min(cost) \n",
    "                    p[i][j] = fish[x][0]                         \n",
    "    # LAST ROW - different b/c of starting fish                 \n",
    "    for j in range(len(fish)):\n",
    "        cost = []\n",
    "        for x in range(len(fish)):\n",
    "            if p[-2][j] != fish[x][0] and p[0][j] != fish[x][0]:\n",
    "                cost.append(d[-2][j] + tanks[-1] * fish[x][1])\n",
    "        for x in range(len(fish)):\n",
    "            if d[-2][j] + tanks[-1] * fish[x][1] == min(cost):\n",
    "                d[-1][j] = min(cost)\n",
    "                p[-1][j] = fish[x][0]\n",
    "    result = []\n",
    "    for i in range(len(fish)):\n",
    "        if d[-1][i] == min(d[-1]):\n",
    "            for j in range(0, len(p)):\n",
    "                result.append(p[j][i])\n",
    "    return result, round(min(d[-1]),3)\n",
    "                    \n",
    "# tanks = [10, 15, 200, 35, 18, 99, 99, 10]\n",
    "# fish = [('shark', 12.1), ('marlin', 8.1), ('sole', 9.1)]\n",
    "\n",
    "# print ( \"The lowest overall cost is\", aquarium(tanks,fish)[1], \"with fish set up\", aquarium(tanks,fish)[0])\n",
    "\n",
    "\n",
    "tanks = [20, 1,1, 20]\n",
    "fish = [('shark', 12.1), ('marlin', 8.1), ('sole', 9.1)]\n",
    "print ( \"The lowest overall cost is\", aquarium(tanks,fish)[1], \"with fish set up\", aquarium(tanks,fish)[0])"
   ]
  },
  {
   "cell_type": "code",
   "execution_count": 91,
   "metadata": {},
   "outputs": [
    {
     "name": "stdout",
     "output_type": "stream",
     "text": [
      "4095.6000000000004\n"
     ]
    }
   ],
   "source": [
    "tanks = [10, 15, 200, 35, 18, 99, 99, 10]\n",
    "fish = [('shark', 12.1), ('marlin', 8.1), ('sole', 9.1)]\n",
    "\n",
    "def aquarium(tanks,fish):\n",
    "    d = [[[None,None] for x in range(len(fish))] for y in range(len(tanks))]\n",
    "    for j in range(len(fish)): \n",
    "        d[0][j][0] = tanks[0] * fish[j][1] \n",
    "        d[0][j][1] = j\n",
    "    for i in range(1,len(tanks)-1): \n",
    "        for j in range(len(fish)): \n",
    "            cost = []\n",
    "            first_fish = None\n",
    "            for x in range(len(fish)): \n",
    "                if x != j : \n",
    "                    cost.append(d[i-1][x][0])\n",
    "                if cost and d[i-1][x][0] == min(cost):\n",
    "                    first_fish = d[i-1][x][1]\n",
    "            d[i][j][0] = tanks[i] * fish[j][1] + min(cost)\n",
    "            d[i][j][1] = first_fish\n",
    "    for j in range(len(fish)):\n",
    "        cost = []\n",
    "        for x in range(len(fish)): \n",
    "                if x != j and x != d[-2][j][1] : \n",
    "                    cost.append(tanks[-1] * fish[x][1])\n",
    "        d[-1][j][0]= d[-2][j][0] + min(cost)\n",
    "    for j in range(len(fish)):\n",
    "        if j == 0:\n",
    "            answer = d[-1][j][0]\n",
    "        else:\n",
    "            if d[-1][j][0] < answer:\n",
    "                answer = d[-1][j][0]\n",
    "    return answer\n",
    "print (aquarium(tanks,fish))        "
   ]
  },
  {
   "cell_type": "code",
   "execution_count": 92,
   "metadata": {},
   "outputs": [
    {
     "name": "stdout",
     "output_type": "stream",
     "text": [
      "1658\n",
      "1658\n"
     ]
    }
   ],
   "source": [
    "tanks = [200, 1, 2, 200, 4]\n",
    "fish = [('shark', 10), ('marlin', 4), ('sole', 8)]\n",
    "print (aquarium(tanks,fish)) \n",
    "print (4*200*2 + 10 + 2*8 + 4*8)"
   ]
  },
  {
   "cell_type": "code",
   "execution_count": 31,
   "metadata": {},
   "outputs": [],
   "source": [
    "      for j in range(0, len(p) - 1):\n",
    "    print (j)"
   ]
  },
  {
   "cell_type": "code",
   "execution_count": 17,
   "metadata": {},
   "outputs": [
    {
     "data": {
      "text/plain": [
       "[[121.0,\n",
       "  181.5,\n",
       "  2420.0,\n",
       "  423.5,\n",
       "  217.79999999999998,\n",
       "  1197.8999999999999,\n",
       "  1197.8999999999999,\n",
       "  121.0],\n",
       " [81.0, 121.5, 1620.0, 283.5, 145.79999999999998, 801.9, 801.9, 81.0],\n",
       " [91.0, 136.5, 1820.0, 318.5, 163.79999999999998, 900.9, 900.9, 91.0]]"
      ]
     },
     "execution_count": 17,
     "metadata": {},
     "output_type": "execute_result"
    }
   ],
   "source": [
    "def aquarium(tanks,fish):\n",
    "    cost = [[0 for i in range(len(tanks))] for j in range(len(fish))]\n",
    "    tank_order = [\"\" for i in range(len(tanks))]\n",
    "    for i in range(len(fish)):\n",
    "        for j in range(len(tanks)):\n",
    "            cost[i][j] = fish[i][1]*tanks[j]\n",
    "    return cost\n",
    "            \n",
    "aquarium(tanks,fish)"
   ]
  },
  {
   "cell_type": "code",
   "execution_count": 55,
   "metadata": {},
   "outputs": [
    {
     "ename": "SyntaxError",
     "evalue": "invalid syntax (<ipython-input-55-1ec91452e54f>, line 4)",
     "output_type": "error",
     "traceback": [
      "\u001b[0;36m  File \u001b[0;32m\"<ipython-input-55-1ec91452e54f>\"\u001b[0;36m, line \u001b[0;32m4\u001b[0m\n\u001b[0;31m    cost[i][j] = cost[i][j] + min(cost[i-1][c] for c in range(len(fish)) if c != j) for j in range(len(fish))\u001b[0m\n\u001b[0m                                                                                      ^\u001b[0m\n\u001b[0;31mSyntaxError\u001b[0m\u001b[0;31m:\u001b[0m invalid syntax\n"
     ]
    }
   ],
   "source": [
    "#calculate cost of certain fish plus minimum of previous tanks' total\n",
    "for i in range(1,(len(tanks))):\n",
    "    for j in range(len(fish)):\n",
    "        cost[i][j] = cost[i][j] + min(cost[i-1][c] \n",
    "            for c in range(len(fish))\n",
    "                if c != j) \n",
    "        for j in range(len(fish))"
   ]
  },
  {
   "cell_type": "code",
   "execution_count": 74,
   "metadata": {},
   "outputs": [
    {
     "name": "stdout",
     "output_type": "stream",
     "text": [
      "[[121.0, 81.0, 91.0], [242.5, 217.5, 212.5], [2062.5, 1837.5, 2032.5], [2346.0, 2156.0, 2316.0], [2509.8, 2301.8, 2479.8], [3311.7000000000003, 3202.7000000000003, 3281.7000000000003], [4212.6, 4004.6000000000004, 4182.6], [4293.6, 4095.6000000000004, 4263.6]]\n",
      "(['sole', 'marlin', 'sole', 'marlin', 'sole', 'marlin', 'sole', 'marlin'], 4095.6)\n"
     ]
    }
   ],
   "source": [
    "def aquarium(tanks, fish):\n",
    "    d = [[None for x in range(len(fish))] for y in range(len(tanks))] \n",
    "    p = [[None for x in range(len(fish))] for y in range(len(tanks))]\n",
    "    for i in range(len(fish)):\n",
    "        d[0][i] = tanks[0] * fish[i][1]\n",
    "        p[0][i] = fish[i][0]\n",
    "    for i in range(1,len(tanks)-1):\n",
    "        for j in range(len(fish)):\n",
    "            cost = []\n",
    "            for x in range(len(fish)):\n",
    "                if p[i-1][j] != fish[x][0]:\n",
    "                    cost.append(d[i-1][j] + tanks[i] * fish[x][1])\n",
    "            for j in range(len(fish)):\n",
    "                for x in range(len(fish)):\n",
    "                    if p[i-1][j] != fish[x][0]:\n",
    "                        if d[i-1][j] + tanks[i] * fish[x][1] == min(cost):\n",
    "                            d[i][j] = min(cost)\n",
    "                            p[i][j] = fish[x][0]\n",
    "    for j in range(len(fish)):\n",
    "        cost = []\n",
    "        for x in range(len(fish)):\n",
    "            if p[-2][j] != fish[x][0] and p[0][j] != fish[x][0]:\n",
    "                cost.append(d[-2][j] + tanks[-1] * fish[x][1])\n",
    "        for j in range(len(fish)):\n",
    "            for x in range(len(fish)):\n",
    "                if p[-2][j] != fish[x][0] and p[0][j] != fish[x][0]:\n",
    "                    if d[-2][j] + tanks[-1] * fish[x][1] == min(cost):\n",
    "                        d[-1][j] = min(cost)\n",
    "                        p[-1][j] = fish[x][0]\n",
    "    result = []\n",
    "    for i in range(len(fish)):\n",
    "        if d[-1][i] == min(d[-1]):\n",
    "            for j in range(len(p)-1,-1,-1):\n",
    "                result.append(p[j][i])\n",
    "    print (d)\n",
    "    return result, round(min(d[-1]),3)\n",
    "                    \n",
    "tanks = [10, 15, 200, 35, 18, 99, 99, 10]\n",
    "fish = [('shark', 12.1), ('marlin', 8.1), ('sole', 9.1)]\n",
    "\n",
    "print (aquarium(tanks,fish))"
   ]
  },
  {
   "cell_type": "code",
   "execution_count": null,
   "metadata": {
    "collapsed": true
   },
   "outputs": [],
   "source": [
    "91"
   ]
  }
 ],
 "metadata": {
  "kernelspec": {
   "display_name": "Python 3",
   "language": "python",
   "name": "python3"
  },
  "language_info": {
   "codemirror_mode": {
    "name": "ipython",
    "version": 3
   },
   "file_extension": ".py",
   "mimetype": "text/x-python",
   "name": "python",
   "nbconvert_exporter": "python",
   "pygments_lexer": "ipython3",
   "version": "3.6.3"
  }
 },
 "nbformat": 4,
 "nbformat_minor": 2
}
