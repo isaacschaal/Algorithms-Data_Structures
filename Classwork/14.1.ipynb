{
 "cells": [
  {
   "cell_type": "code",
   "execution_count": 44,
   "metadata": {},
   "outputs": [
    {
     "ename": "ModuleNotFoundError",
     "evalue": "No module named 'cPickle'",
     "output_type": "error",
     "traceback": [
      "\u001b[0;31m---------------------------------------------------------------------------\u001b[0m",
      "\u001b[0;31mModuleNotFoundError\u001b[0m                       Traceback (most recent call last)",
      "\u001b[0;32m<ipython-input-44-491f34889677>\u001b[0m in \u001b[0;36m<module>\u001b[0;34m()\u001b[0m\n\u001b[1;32m      4\u001b[0m \u001b[0;32mfrom\u001b[0m \u001b[0mcollections\u001b[0m \u001b[0;32mimport\u001b[0m \u001b[0mdefaultdict\u001b[0m\u001b[0;34m\u001b[0m\u001b[0m\n\u001b[1;32m      5\u001b[0m \u001b[0;32mfrom\u001b[0m \u001b[0mbitarray\u001b[0m \u001b[0;32mimport\u001b[0m \u001b[0mbitarray\u001b[0m\u001b[0;34m\u001b[0m\u001b[0m\n\u001b[0;32m----> 6\u001b[0;31m \u001b[0;32mimport\u001b[0m \u001b[0mcPickle\u001b[0m \u001b[0;32mas\u001b[0m \u001b[0mpickle\u001b[0m\u001b[0;34m\u001b[0m\u001b[0m\n\u001b[0m\u001b[1;32m      7\u001b[0m \u001b[0;34m\u001b[0m\u001b[0m\n\u001b[1;32m      8\u001b[0m \u001b[0;34m\u001b[0m\u001b[0m\n",
      "\u001b[0;31mModuleNotFoundError\u001b[0m: No module named 'cPickle'"
     ]
    }
   ],
   "source": [
    "import heapq\n",
    "import urllib\n",
    "import os\n",
    "from collections import defaultdict\n",
    "from bitarray import bitarray\n",
    "import cPickle as pickle\n",
    "\n",
    "\n",
    "# Download the file if need be:\n",
    "def download_file(url, filename):\n",
    "    if not os.path.exists(filename):\n",
    "        urllib.urlretrieve(url + filename, filename)\n",
    "\n",
    "\n",
    "# build a frequency table:\n",
    "def build_freq(filename):\n",
    "    freq = defaultdict(int)\n",
    "    with open(filename, 'r') as f:\n",
    "        for line in f:\n",
    "            for char in line.decode('utf-8-sig'):\n",
    "                freq[char] += 1\n",
    "    total = float(sum(freq.values()))\n",
    "    return {char: count / total for (char, count) in freq.items()}\n",
    "\n",
    "\n",
    "# Now build the Huffman encoding:\n",
    "\n",
    "class node(self):\n",
    "    def __init__(self, freq = None, char = None):\n",
    "        self.left = None\n",
    "        self.right = None\n",
    "        self.freq = freq\n",
    "        self.char = char\n",
    "\n",
    "def encode(symb2freq):\n",
    "    \"\"\"Huffman encode the given dict mapping symbols to weights.\n",
    "\n",
    "    Accept a dictionary which maps a symbol to a probability.\n",
    "    Return a new dictionary which maps a symbol to a bitarray.\"\"\"\n",
    "    n = len(symb2freq)\n",
    "    Q = heapq.heapify([])\n",
    "    for symb in symb2freq:\n",
    "        heapq.heappush(Q, (symb2freq[symb],symb,None, None))\n",
    "    for i in range(n-1):\n",
    "        x = heapq.heappop(Q)\n",
    "        y = heapq.heappop(Q)\n",
    "        z = (x[0] + y[0], None,x,y)\n",
    "        heapq.heappush(Q, z)\n",
    "    root = heapq.heappop(Q)\n",
    "    to_do = [root]\n",
    "    dic = {root:\"\"}\n",
    "    while to_do:\n",
    "        focus = to_do.pop()\n",
    "        if focus[2] != None:\n",
    "            dic[focus[2]]= dic[focus]+\"0\"\n",
    "            to_do.append(focus[2])\n",
    "        if focus[3] != None:\n",
    "            dic[focus[3]]= dic[focus]+\"1\"\n",
    "            to_do.append(focus[3])\n",
    "    final_dic = {}\n",
    "    for di in dic:\n",
    "        if di[1] != None:\n",
    "            final_dic[di[1]] = bitstring(dic[di])\n",
    "    return final_dic\n",
    "\n",
    "\n",
    "# Now compress the file:\n",
    "def compress(filename, encoding, compressed_name=None):\n",
    "    if compressed_name is None:\n",
    "        compressed_name = filename + \".huff\"\n",
    "    output = bitarray()\n",
    "    with open(filename, 'r') as f:\n",
    "        for line in f:\n",
    "            for char in line.decode('utf-8-sig'):\n",
    "                output.extend(encoding[char])\n",
    "    N = len(output)\n",
    "    with open(compressed_name, 'wb') as f:\n",
    "        pickle.dump(N, f)\n",
    "        pickle.dump(encoding, f)\n",
    "        output.tofile(f)\n",
    "\n",
    "\n",
    "# Now decompress the file:\n",
    "def decompress(filename, decompressed_name=None):\n",
    "    if decompressed_name is None:\n",
    "        decompressed_name = filename + \".dehuff\"\n",
    "    with open(filename, 'rb') as f:\n",
    "        N = pickle.load(f)\n",
    "        encoding = pickle.load(f)\n",
    "        bits = bitarray()\n",
    "        bits.fromfile(f)\n",
    "        bits = bits[:N]\n",
    "\n",
    "    # Totally cheating here and using a builtin method:\n",
    "    output = bits.decode(encoding)\n",
    "\n",
    "    output = \"\".join(output).encode('utf-8-sig')\n",
    "    with open(decompressed_name, 'wb') as f:\n",
    "        f.write(output)\n",
    "\n",
    "\n",
    "url = \"https://www.gutenberg.org/ebooks/\"\n",
    "filename = \"100.txt.utf-8\"\n",
    "\n",
    "download_file(url, filename)\n",
    "freq = build_freq(filename)\n",
    "encoding = encode(freq)\n",
    "compress(filename, encoding)\n",
    "decompress(filename + \".huff\")\n",
    "# Do you get identical files?"
   ]
  },
  {
   "cell_type": "code",
   "execution_count": 43,
   "metadata": {},
   "outputs": [
    {
     "data": {
      "text/plain": [
       "1"
      ]
     },
     "execution_count": 43,
     "metadata": {},
     "output_type": "execute_result"
    }
   ],
   "source": [
    "to_do = [1]\n",
    "to_do.pop()"
   ]
  }
 ],
 "metadata": {
  "kernelspec": {
   "display_name": "Python 3",
   "language": "python",
   "name": "python3"
  },
  "language_info": {
   "codemirror_mode": {
    "name": "ipython",
    "version": 3
   },
   "file_extension": ".py",
   "mimetype": "text/x-python",
   "name": "python",
   "nbconvert_exporter": "python",
   "pygments_lexer": "ipython3",
   "version": "3.6.5"
  }
 },
 "nbformat": 4,
 "nbformat_minor": 2
}
