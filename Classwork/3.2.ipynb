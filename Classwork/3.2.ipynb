{
 "cells": [
  {
   "cell_type": "raw",
   "metadata": {},
   "source": [
    "1. Turn the following array into a heap:\\ \\[39, 85, 85, 16, 49, 7, 49, 92, 76, 15, 21, 30, 29, 31, 28\\]\n",
    "2.Heaps represent implicit binary trees. Show the binary tree associated with your answer in #1.\n",
    "\n",
    "                92\n",
    "          85         85\n",
    "        76 49      49   39\n",
    "    30 29 28 31  16  7  15 21\n",
    "    \n",
    "  [92,85,85,76,49,49,39,30,29,28,31,16,7,15,21]\n",
    "  \n",
    "  \n"
   ]
  },
  {
   "cell_type": "code",
   "execution_count": 14,
   "metadata": {
    "collapsed": false
   },
   "outputs": [
    {
     "name": "stdout",
     "output_type": "stream",
     "text": [
      "[0, 1, 1, 2, 3, 4, 5, 5, 7, 8]\n"
     ]
    }
   ],
   "source": [
    "def parent(i):\n",
    "    return i/2\n",
    "def left(i):\n",
    "    return 2*i\n",
    "def right(i):\n",
    "    return 2*i+1\n",
    "\n",
    "#starts with node i, and puts it in the place it should be at\n",
    "#Note that heap_size = len(A) -1 (for a full heap_size) \n",
    "# b/c of its use in indicies\n",
    "def max_heapify(A,heap_size,i):\n",
    "    l = left(i)\n",
    "    r = right(i)\n",
    "    if l <= heap_size and A[l] > A[i]:\n",
    "        largest = l\n",
    "    else:\n",
    "        largest = i\n",
    "    if r <= heap_size and A[r] > A[largest]:\n",
    "        largest = r\n",
    "    if largest != i:\n",
    "        temp = A[i]\n",
    "        A[i] = A[largest]\n",
    "        A[largest] = temp\n",
    "        max_heapify(A,heap_size,largest)\n",
    "        #this is the recursive call, letting i go down to\n",
    "        #its appropriate place in the heap\n",
    "        \n",
    "#builds a max heap using heapify from the first node \n",
    "# that is not a leaf untill the top\n",
    "def build_max_heap(A):\n",
    "    heap_size = len(A)-1\n",
    "    for i in range(len(A)/2-1,-1,-1):\n",
    "        max_heapify(A,heap_size,i)\n",
    "        \n",
    "#The function that ties it together,\n",
    "# builds a max heap and then does heapify on \n",
    "# switches the 0 element (the biggest) with the end of the list\n",
    "# which then is heapified (with the end of the list not counted)\n",
    "# so that the largest is on top again\n",
    "def heap_sort(A):\n",
    "    build_max_heap(A)\n",
    "    heap_size = len(A)-1\n",
    "    for i in range(len(A)-1,0,-1):\n",
    "        temp = A[0]\n",
    "        A[0] = A[i]\n",
    "        A[i] = temp\n",
    "        heap_size -=1\n",
    "        max_heapify(A,heap_size,0)\n",
    "    return A\n",
    "        \n",
    "print heap_sort([0,4,5,7,2,5,1,8,1,3])\n",
    "        \n",
    "        "
   ]
  },
  {
   "cell_type": "code",
   "execution_count": 7,
   "metadata": {
    "collapsed": false
   },
   "outputs": [
    {
     "name": "stdout",
     "output_type": "stream",
     "text": [
      "[0, 2, 1, 3, 4, 9, 9, 9, 9, 9, 9]\n"
     ]
    },
    {
     "data": {
      "text/plain": [
       "[4, 3, 2, 1, 0]"
      ]
     },
     "execution_count": 7,
     "metadata": {},
     "output_type": "execute_result"
    }
   ],
   "source": [
    "A = [0,1,2,3,4,9,9,9,9,9,9]\n",
    "   \n",
    "largest = 2\n",
    "\n",
    "temp = A[1]\n",
    "A[1] = A[largest]\n",
    "A[largest] = temp\n",
    "\n",
    "print A\n",
    "\n",
    "range(len(A)/2-1,-1,-1)"
   ]
  }
 ],
 "metadata": {
  "anaconda-cloud": {},
  "kernelspec": {
   "display_name": "Python [Root]",
   "language": "python",
   "name": "Python [Root]"
  },
  "language_info": {
   "codemirror_mode": {
    "name": "ipython",
    "version": 2
   },
   "file_extension": ".py",
   "mimetype": "text/x-python",
   "name": "python",
   "nbconvert_exporter": "python",
   "pygments_lexer": "ipython2",
   "version": "2.7.12"
  }
 },
 "nbformat": 4,
 "nbformat_minor": 0
}
