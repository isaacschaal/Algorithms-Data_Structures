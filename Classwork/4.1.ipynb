{
 "cells": [
  {
   "cell_type": "code",
   "execution_count": 35,
   "metadata": {
    "collapsed": false
   },
   "outputs": [
    {
     "name": "stdout",
     "output_type": "stream",
     "text": [
      "2\n"
     ]
    }
   ],
   "source": [
    "class heapq(object):\n",
    "    \n",
    "    def __init__(self):\n",
    "    \n",
    "        pass\n",
    "    \"\"\" Implement your own heapq which matches python’s interface \n",
    "    (only heappush, heappop, and heapify are needed).\n",
    "    You will perform similar tasks in class.\n",
    "    \n",
    "    \"\"\"\n",
    "    \n",
    "    #def helper functions for our main functions\n",
    "    def parent(self,i):\n",
    "        return i/2\n",
    "    \n",
    "    def left(self,i):\n",
    "        return 2*i\n",
    "    \n",
    "    def right(self,i):\n",
    "        return 2*i+1\n",
    "    \n",
    "\n",
    "    def min_heapify_recurs(self,A,heap_size,i):\n",
    "        l = self.left(i)\n",
    "        r = self.right(i)\n",
    "        if l <= heap_size and A[l] < A[i]:\n",
    "            smallest = l\n",
    "        else:\n",
    "            smallest = i\n",
    "        if r <= heap_size and A[r] < A[smallest]:\n",
    "            smallest = r\n",
    "        if smallest != i:\n",
    "            temp = A[i]\n",
    "            A[i] = A[smallest]\n",
    "            A[smallest] = temp\n",
    "            self.min_heapify_recurs(A,heap_size,smallest)\n",
    "            \n",
    "    def decrease_key(self,A, i, key):\n",
    "        if key > A[i]:\n",
    "            raise IndexError,\"New Key is larger than current key\"\n",
    "        A[i] = key\n",
    "        while i > 0 and A[self.parent(i)] > A[i]:\n",
    "            temp = A[self.parent(i)]\n",
    "            A[self.parent(i)] = A[i]\n",
    "            A[i] = temp\n",
    "            i = self.parent(i)\n",
    "        \n",
    "\n",
    "\n",
    "\n",
    "    def heappush(self,heap,item):\n",
    "        \"\"\"Push the item onto the heap, maintaining the heap invariant\"\"\"\n",
    "        #heap.append(max(heap)+1) #this line is problematic\n",
    "        #heap.append(np.inf) \n",
    "        heap.append()\n",
    "        i = len(heap) - 1\n",
    "        self.decrease_key(heap,i,item)\n",
    "        return heap\n",
    "        \n",
    "        \n",
    "    def heappop(self,heap):\n",
    "        \"\"\"Pop and return the smallest element in heap, \n",
    "        while maintaining the heap invariant. If heap is empty \n",
    "        index error is raised.\"\"\"\n",
    "        heap_size = len(heap)-1\n",
    "        if heap_size < 1:\n",
    "            raise IndexError,\"The heap is empty\"\n",
    "        mini = heap[0]\n",
    "        heap[0] = heap[heap_size]\n",
    "        heap = heap[:heap_size]\n",
    "        self.min_heapify_recurs(heap, heap_size -1, 0)\n",
    "        return mini\n",
    "        \n",
    "\n",
    "    def heapify(self,x):\n",
    "        \"\"\"Transform list x into a heap\"\"\"\n",
    "        heap_size = len(x)-1\n",
    "        for i in range(len(x)/2-1,-1,-1):\n",
    "            self.min_heapify_recurs(x,heap_size,i)\n",
    "        return x\n",
    "    \n",
    "    \n",
    "lis = [10,3,7,2,6,9,7,5]\n",
    "lis1 = [1,2,3,4,5,6,7]\n",
    "    \n",
    "    \n",
    "hp = heapq()\n",
    "\n",
    "hp.heapify(lis)\n",
    "\n",
    "hp.heappush(lis,9)\n",
    "print hp.heappop(lis)\n"
   ]
  },
  {
   "cell_type": "code",
   "execution_count": 4,
   "metadata": {
    "collapsed": false
   },
   "outputs": [
    {
     "ename": "IndexError",
     "evalue": "Too Slow",
     "output_type": "error",
     "traceback": [
      "\u001b[0;31m---------------------------------------------------------------------------\u001b[0m",
      "\u001b[0;31mIndexError\u001b[0m                                Traceback (most recent call last)",
      "\u001b[0;32m<ipython-input-4-702949fe3f93>\u001b[0m in \u001b[0;36m<module>\u001b[0;34m()\u001b[0m\n\u001b[1;32m      3\u001b[0m         \u001b[0;32mraise\u001b[0m \u001b[0mIndexError\u001b[0m\u001b[0;34m,\u001b[0m\u001b[0;34m\"Too Slow\"\u001b[0m\u001b[0;34m\u001b[0m\u001b[0m\n\u001b[1;32m      4\u001b[0m \u001b[0;34m\u001b[0m\u001b[0m\n\u001b[0;32m----> 5\u001b[0;31m \u001b[0mfun\u001b[0m\u001b[0;34m(\u001b[0m\u001b[0;36m1\u001b[0m\u001b[0;34m)\u001b[0m\u001b[0;34m\u001b[0m\u001b[0m\n\u001b[0m",
      "\u001b[0;32m<ipython-input-4-702949fe3f93>\u001b[0m in \u001b[0;36mfun\u001b[0;34m(x)\u001b[0m\n\u001b[1;32m      1\u001b[0m \u001b[0;32mdef\u001b[0m \u001b[0mfun\u001b[0m\u001b[0;34m(\u001b[0m\u001b[0mx\u001b[0m\u001b[0;34m)\u001b[0m\u001b[0;34m:\u001b[0m\u001b[0;34m\u001b[0m\u001b[0m\n\u001b[1;32m      2\u001b[0m     \u001b[0;32mif\u001b[0m \u001b[0mx\u001b[0m \u001b[0;34m==\u001b[0m \u001b[0;36m1\u001b[0m\u001b[0;34m:\u001b[0m\u001b[0;34m\u001b[0m\u001b[0m\n\u001b[0;32m----> 3\u001b[0;31m         \u001b[0;32mraise\u001b[0m \u001b[0mIndexError\u001b[0m\u001b[0;34m,\u001b[0m\u001b[0;34m\"Too Slow\"\u001b[0m\u001b[0;34m\u001b[0m\u001b[0m\n\u001b[0m\u001b[1;32m      4\u001b[0m \u001b[0;34m\u001b[0m\u001b[0m\n\u001b[1;32m      5\u001b[0m \u001b[0mfun\u001b[0m\u001b[0;34m(\u001b[0m\u001b[0;36m1\u001b[0m\u001b[0;34m)\u001b[0m\u001b[0;34m\u001b[0m\u001b[0m\n",
      "\u001b[0;31mIndexError\u001b[0m: Too Slow"
     ]
    }
   ],
   "source": [
    "def fun(x):\n",
    "    if x == 1:\n",
    "        raise IndexError,\"The heap is empty\"\n",
    "        \n",
    "fun(1)"
   ]
  },
  {
   "cell_type": "code",
   "execution_count": 6,
   "metadata": {
    "collapsed": false
   },
   "outputs": [
    {
     "name": "stdout",
     "output_type": "stream",
     "text": [
      "[1, 2, 3, 5]\n"
     ]
    }
   ],
   "source": [
    "#starts with node i, and puts it in the place it should be at\n",
    "#Note that heap_size = len(A) -1 (for a full heap_size) \n",
    "# b/c of its use in indicies\n",
    "def min_heapify(A,heap_size,i):\n",
    "    l = left(i)\n",
    "    r = right(i)\n",
    "    if l <= heap_size and A[l] < A[i]:\n",
    "        smallest = l\n",
    "    else:\n",
    "        smallest = i\n",
    "    if r <= heap_size and A[r] < A[smallest]:\n",
    "        smallest = r\n",
    "    if smallest != i:\n",
    "        temp = A[i]\n",
    "        A[i] = A[smallest]\n",
    "        A[smallest] = temp\n",
    "        min_heapify(A,heap_size,smallest)\n",
    "        #this is the recursive call, letting i go down to\n",
    "        #its appropriate place in the heap\n",
    "        \n",
    "#builds a max heap using heapify from the first node \n",
    "# that is not a leaf untill the top\n",
    "def build_min_heap(A):\n",
    "    heap_size = len(A)-1\n",
    "    for i in range(len(A)/2-1,-1,-1):\n",
    "        min_heapify(A,heap_size,i)"
   ]
  }
 ],
 "metadata": {
  "anaconda-cloud": {},
  "kernelspec": {
   "display_name": "Python [Root]",
   "language": "python",
   "name": "Python [Root]"
  },
  "language_info": {
   "codemirror_mode": {
    "name": "ipython",
    "version": 2
   },
   "file_extension": ".py",
   "mimetype": "text/x-python",
   "name": "python",
   "nbconvert_exporter": "python",
   "pygments_lexer": "ipython2",
   "version": "2.7.12"
  }
 },
 "nbformat": 4,
 "nbformat_minor": 0
}
