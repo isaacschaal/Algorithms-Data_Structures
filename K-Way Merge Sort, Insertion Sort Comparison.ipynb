{
 "cells": [
  {
   "cell_type": "code",
   "execution_count": 2,
   "metadata": {},
   "outputs": [],
   "source": [
    "import numpy as np\n",
    "\n",
    "def merge_sort(A,k,y=0,z=None,insertion = False, insertion_level = 5):\n",
    "    \n",
    "    \"\"\"Merge Sort! A recursive solution to sorting a list of integers.\n",
    "    \n",
    "    A is the list to be sorted.\n",
    "    \n",
    "    k is the 'degree' of the merge sort. Merge sorts splits the list into\n",
    "    k subsections, each of which is divided into k subsections, etc. \n",
    "    When the length of each subsection is 0, merge sort returns the list\n",
    "    and the k lists are merged together. \n",
    "    \n",
    "    y and z are the start and end indixes of A which should be sorted. \n",
    "    To sort an entire list with len = 5, x should be 0 and y should be 4\n",
    "    The default y is 0 and z is 1-len(A), or the user can specify y and z.\n",
    "    \n",
    "    If insertion is set to True, once the size of the list is less than or \n",
    "    equal to the insertion_level, insertion sort will be run instead of merge-sort.\n",
    "    \n",
    "    \"\"\"\n",
    "    if z== None:\n",
    "        z= len(A)-1\n",
    "    \n",
    "    if insertion == False:\n",
    "        # The key line of the recursion. If y!<z, the list can no longer \n",
    "        # be subdivided, so it is returned as is.\n",
    "        if y<z:\n",
    "            #Calls the make_ys function, which creates appropriate indexes\n",
    "            # for subdividing the list into k sublists.\n",
    "            y_list = make_ys(k,y,z)\n",
    "            for x in xrange(k):\n",
    "                if x == 0:\n",
    "                    merge_sort(A,k,y_list[0],y_list[1])\n",
    "                else:\n",
    "                    merge_sort(A,k,y_list[x]+1,y_list[x+1])\n",
    "            #Calls merge, which takes k sorted lists and merges them into\n",
    "            # a sorted list.\n",
    "            merge(A,k,y_list)\n",
    "        return A\n",
    "    \n",
    "    else :\n",
    "        #If insertion is set to true, once the list gets small enough\n",
    "        # at or less than(insertion level), insertion sort is run on the\n",
    "        # sublist.\n",
    "        if z-y+1 > insertion_level:\n",
    "            y_list = make_ys(k,y,z)\n",
    "            for x in xrange(k):\n",
    "                if x == 0:\n",
    "                    merge_sort(A,k,y_list[0],y_list[1],insertion = True, insertion_level = insertion_level)\n",
    "                else:\n",
    "                    merge_sort(A,k,y_list[x]+1,y_list[x+1],insertion = True, insertion_level = insertion_level)\n",
    "            merge(A,k,y_list)\n",
    "        else:\n",
    "            insertion_sort(A,y,z)\n",
    "        return A\n",
    "\n",
    "\n",
    "def make_ys(k,y,z):\n",
    "    \n",
    "    \"\"\"\n",
    "    Given y and z, the start and end indexes, \n",
    "    returns y_list, which is the correct indexes, \n",
    "    starting with y, to split the list into k sublists.\n",
    "    \"\"\"\n",
    "    \n",
    "    ln = z-y+1\n",
    "    list_length = ln/k\n",
    "    number_of_long_lists = ln%k\n",
    "    long_list_counter = 0\n",
    "    first_list = True\n",
    "    y_list = [y]\n",
    "    for x in xrange(k):\n",
    "        if first_list == True and long_list_counter < number_of_long_lists:\n",
    "            y_list.append(y_list[-1]+list_length)\n",
    "            long_list_counter +=1\n",
    "            first_list = False\n",
    "        elif first_list == True:\n",
    "            y_list.append(y_list[-1]+list_length-1)\n",
    "            first_list = False\n",
    "        elif long_list_counter < number_of_long_lists:\n",
    "            long_list_counter +=1\n",
    "            y_list.append(y_list[-1]+list_length+1)    \n",
    "        else:\n",
    "            y_list.append(y_list[-1]+list_length)    \n",
    "    return y_list\n",
    "\n",
    "def merge(A,k,y_list):\n",
    "    \"\"\"\n",
    "    Inputs are A, the list to be sorted, k the degree of merge sort\n",
    "    and y_list, the indexes of the sublists (already sorted) to be merged\n",
    "    \n",
    "    Outputs A with the specified subsection sorted.\n",
    "    \"\"\"\n",
    "    \n",
    "    # Sets the length of the lists, \n",
    "    # the sum of which is equal to\n",
    "    # the total length\n",
    "    n_list = []\n",
    "    for x in xrange(k):\n",
    "        if x == 0:\n",
    "            n_list.append(y_list[1]-y_list[0]+1)\n",
    "        else:\n",
    "            n_list.append(y_list[x+1]-y_list[x])\n",
    "    #Creates the merge_lists\n",
    "    merge_list = []\n",
    "    for n in n_list:\n",
    "        merge_list.append([])\n",
    "    \n",
    "    #Populates merge_lists with their respective values\n",
    "    for x in xrange(k):\n",
    "        if n_list[x] ==0:\n",
    "            pass\n",
    "        else:\n",
    "            if x == 0:\n",
    "                for n in xrange(n_list[x]):\n",
    "                    merge_list[x].append(A[y_list[x]+n])\n",
    "            else:\n",
    "                for n in xrange(n_list[x]):\n",
    "                    merge_list[x].append(A[y_list[x]+n+1])\n",
    "                    \n",
    "    #add an inf term to the end of each list,\n",
    "    # so when compared to other lists it is always greater\n",
    "    for lis in merge_list:\n",
    "        lis.append(np.inf)\n",
    "        \n",
    "    counter_list = []\n",
    "    for x in xrange(k):\n",
    "        counter_list.append(0)\n",
    "        \n",
    "    # goes through the merge_lists, comparing the \n",
    "    # first elements, and choosing the smallest \n",
    "    for x in range(y_list[0],y_list[-1]+1):\n",
    "        target = merge_list[0][counter_list[0]]\n",
    "        target_index = 0\n",
    "        for a in range(1,k):            \n",
    "            if merge_list[a][counter_list[a]] < target:\n",
    "                target = merge_list[a][counter_list[a]]\n",
    "                target_index = a\n",
    "        A[x] = target\n",
    "        counter_list[target_index]+=1\n",
    "        \n",
    "def insertion_sort(lis,y,z):\n",
    "    steps = 0\n",
    "    for j in range(1,z-y+1):\n",
    "        key = lis[y+j]\n",
    "        i= j-1\n",
    "        while i>=0 and lis[y+i]>key:\n",
    "            lis[y+i+1] = lis[y+i]\n",
    "            i += -1\n",
    "            steps +=1\n",
    "        lis[y+i+1]=key \n",
    "        steps += 1\n",
    "    return lis\n",
    "\n"
   ]
  },
  {
   "cell_type": "code",
   "execution_count": 3,
   "metadata": {},
   "outputs": [
    {
     "name": "stdout",
     "output_type": "stream",
     "text": [
      "[1, 2, 3, 4, 5, 6, 7, 8, 9]\n",
      "[1, 2, 3, 4, 5, 6, 7, 8, 9]\n",
      "[1, 2, 3, 4, 5, 6, 7, 8, 9]\n",
      "[9, 8, 7, 2, 3, 4, 5, 6, 1]\n",
      "[1, 2, 3, 4, 5, 6, 7, 8, 9]\n",
      "[1, 1, 1, 1, 1, 1, 1, 1, 1]\n",
      "[-4, -1, -1, 0, 4, 12, 19, 10979373]\n",
      "[-99, -98, -97, -96, -95, -94, -93, -92, -91, -90, -89, -88, -87, -86, -85, -84, -83, -82, -81, -80, -79, -78, -77, -76, -75, -74, -73, -72, -71, -70, -69, -68, -67, -66, -65, -64, -63, -62, -61, -60, -59, -58, -57, -56, -55, -54, -53, -52, -51, -50, -49, -48, -47, -46, -45, -44, -43, -42, -41, -40, -39, -38, -37, -36, -35, -34, -33, -32, -31, -30, -29, -28, -27, -26, -25, -24, -23, -22, -21, -20, -19, -18, -17, -16, -15, -14, -13, -12, -11, -10, -9, -8, -7, -6, -5, -4, -3, -2, -1, 0, 1, 2, 3, 4, 5, 6, 7, 8, 9, 10, 11, 12, 13, 14, 15, 16, 17, 18, 19, 20, 21, 22, 23, 24, 25, 26, 27, 28, 29, 30, 31, 32, 33, 34, 35, 36, 37, 38, 39, 40, 41, 42, 43, 44, 45, 46, 47, 48, 49, 50, 51, 52, 53, 54, 55, 56, 57, 58, 59, 60, 61, 62, 63, 64, 65, 66, 67, 68, 69, 70, 71, 72, 73, 74, 75, 76, 77, 78, 79, 80, 81, 82, 83, 84, 85, 86, 87, 88, 89, 90, 91, 92, 93, 94, 95, 96, 97, 98, 99, 100]\n",
      "[1, 2, 3, 4, 5, 6, 7, 8, 9]\n"
     ]
    }
   ],
   "source": [
    "\"\"\"\n",
    "First I'll show that the function works in a\n",
    "variety of cases and with different parameters.\n",
    "\"\"\"\n",
    "\n",
    "lis1 = [9,8,7,6,5,4,3,2,1]\n",
    "lis2= [9,8,7,6,5,4,3,2,1]\n",
    "lis3= [9,8,7,6,5,4,3,2,1]\n",
    "lis4= [9,8,7,6,5,4,3,2,1]\n",
    "lis5 = [1,2,3,4,5,6,7,8,9]\n",
    "lis6= [1,1,1,1,1,1,1,1,1]\n",
    "lis7 = [-4,4,-1,19,12,10979373,-1,0]\n",
    "lis8 = range(100,-100,-1)\n",
    "\n",
    "merge_sort(lis1,2)\n",
    "merge_sort(lis2,3)\n",
    "merge_sort(lis3,4)\n",
    "merge_sort(lis4,4,3,7)\n",
    "merge_sort(lis5,3)\n",
    "merge_sort(lis7,3)\n",
    "merge_sort(lis8,3)\n",
    "\n",
    "print lis1\n",
    "print lis2\n",
    "print lis3\n",
    "print lis4\n",
    "print lis5\n",
    "print lis6\n",
    "print lis7\n",
    "print lis8\n",
    "\n",
    "\"\"\"It also works when insertion = True,\n",
    "when the len of list to be sorted is less\n",
    "than the specified insertion_level, \n",
    "insertion_sort is run.\"\"\"\n",
    "\n",
    "\n",
    "lis9 = [9,8,7,6,5,4,3,2,1]\n",
    "merge_sort(lis9,3,insertion=True,insertion_level=3)\n",
    "print lis9"
   ]
  },
  {
   "cell_type": "code",
   "execution_count": 5,
   "metadata": {},
   "outputs": [],
   "source": [
    "\"\"\"Now that we have created our functions, we\n",
    "want to know how the functions compare with one \n",
    "another and with themselves with varying parameters\"\"\" \n",
    "\n",
    "\n",
    "\n",
    "#We first create functions that time our sorting\n",
    "\n",
    "import time\n",
    "\n",
    "def merge_sort_timed(A,k,y=0,z=None,insertion = False, insertion_level = 5):\n",
    "    start_time = time.time()\n",
    "    merge_sort(A,k,y,z=z,insertion = insertion, insertion_level = insertion_level)\n",
    "    return time.time() - start_time\n",
    " \n",
    "\n",
    "# I'll also create a timed insertion sort and a timed 2way merge sort\n",
    "\n",
    "def insertion_sort_timed(lis):\n",
    "    start_time = time.time()\n",
    "    steps = 0\n",
    "    for j in range(1,len(lis)):\n",
    "        key = lis[j]\n",
    "        i= j-1\n",
    "        while i>=0 and lis[i]>key:\n",
    "            lis[i+1] = lis[i]\n",
    "            i += -1\n",
    "            steps +=1\n",
    "        lis[i+1]=key \n",
    "        steps += 1\n",
    "    return time.time() - start_time\n",
    "\n",
    "def merge_2(A,p,q,r):\n",
    "    n_1 = q-p+1\n",
    "    n_2 = r-q\n",
    "    L = []\n",
    "    R = []\n",
    "    for i in range(0,n_1):\n",
    "        L.append(A[p+i])     \n",
    "    for j in range(0,n_2):\n",
    "        R.append(A[q+j+1])\n",
    "    L.append(np.inf)\n",
    "    R.append (np.inf)\n",
    "    i = 0\n",
    "    j = 0\n",
    "    for k in range(p,r+1):\n",
    "        if L[i] <= R[j]:\n",
    "            A[k] = L[i]\n",
    "            i +=1\n",
    "        else:\n",
    "            A[k] = R[j]\n",
    "            j +=1\n",
    "    \n",
    "def merge_sort_2(A,p,r):\n",
    "    if p<r:\n",
    "        q = (p+r)/2\n",
    "        merge_sort_2(A,p,q)\n",
    "        merge_sort_2(A,q+1,r)\n",
    "        merge_2(A,p,q,r)\n",
    "    return A\n",
    "\n",
    "def merge_sort_2_timed(A):\n",
    "    start_time = time.time()\n",
    "    init_r = len(A)-1\n",
    "    init_p = 0\n",
    "    merge_sort_2(A,init_p,init_r)\n",
    "    return time.time() - start_time\n"
   ]
  },
  {
   "cell_type": "code",
   "execution_count": 8,
   "metadata": {},
   "outputs": [],
   "source": [
    "# The first test we shall make is seeing\n",
    "# the time it takes for\n",
    "# 2 way merge sort, 3 way merge sort,\n",
    "# and 3 way merge with insertion sort (insertion at n = 5)\n",
    "# to run over varying lengths of list.\n",
    "\n",
    "test_lengths = [0,1,5,10,50,100,500,1000,5000,10000]\n",
    "\n",
    "\n",
    "\n",
    "two_way_time = []\n",
    "three_way_time = []\n",
    "three_way_w_insertion = []\n",
    "\n",
    "for l in test_lengths:\n",
    "    \n",
    "    test = range(l,0,-1)\n",
    "    runs = []\n",
    "    for _ in xrange(10):\n",
    "        runs.append(merge_sort_2_timed(test))\n",
    "    two_way_time.append(np.mean(runs))\n",
    "    \n",
    "    test = range(l,0,-1)\n",
    "    runs = []\n",
    "    for _ in xrange(10):\n",
    "        runs.append(merge_sort_timed(test,3))\n",
    "    three_way_time.append(np.mean(runs))\n",
    "    \n",
    "    test = range(l,0,-1)\n",
    "    runs = []\n",
    "    for _ in xrange(10):\n",
    "        runs.append(merge_sort_timed(test,3,insertion = True))\n",
    "    three_way_w_insertion.append(np.mean(runs))\n",
    "    \n",
    "    \n",
    "\n"
   ]
  },
  {
   "cell_type": "code",
   "execution_count": 40,
   "metadata": {},
   "outputs": [
    {
     "data": {
      "text/plain": [
       "<function matplotlib.pyplot.show>"
      ]
     },
     "execution_count": 40,
     "metadata": {},
     "output_type": "execute_result"
    },
    {
     "data": {
      "image/png": "[encoded data removed]",
      "text/plain": [
       "<matplotlib.figure.Figure at 0x108dd5b50>"
      ]
     },
     "metadata": {},
     "output_type": "display_data"
    }
   ],
   "source": [
    "import matplotlib\n",
    "import matplotlib.pyplot as plt\n",
    "%matplotlib inline\n",
    "\n",
    "#plt.plot(test_lengths,insertion_time)\n",
    "plt.style.use('ggplot')\n",
    "one = plt.plot(test_lengths,two_way_time, label = \"Two Way\")\n",
    "two = plt.plot(test_lengths,three_way_time, label = \"Three Way\")\n",
    "three = plt.plot(test_lengths,three_way_w_insertion, label = \"Three Way with Insrtn\")\n",
    "plt.legend()\n",
    "plt.ylabel(\"Time\")\n",
    "plt.xlabel(\"N\")\n",
    "plt.title(\"Fig #1: Run Time Comparison\")\n",
    "plt.show"
   ]
  },
  {
   "cell_type": "raw",
   "metadata": {},
   "source": [
    "From the figure, we can see the relative time taken by\n",
    "the three methods. The results show that\n",
    "the two way merge sort is fastest and that the three way\n",
    "merge sort is slowest, with three way mergesort with insertion\n",
    "coming in the middle. Adding insertion sort for small \n",
    "lists seems to cut time, but not enough to be faster than the\n",
    "two way merge sort.\n",
    "\n"
   ]
  },
  {
   "cell_type": "code",
   "execution_count": 38,
   "metadata": {},
   "outputs": [
    {
     "data": {
      "text/plain": [
       "<function matplotlib.pyplot.show>"
      ]
     },
     "execution_count": 38,
     "metadata": {},
     "output_type": "execute_result"
    },
    {
     "data": {
      "image/png": "[encoded data removed]",
      "text/plain": [
       "<matplotlib.figure.Figure at 0x108dd5710>"
      ]
     },
     "metadata": {},
     "output_type": "display_data"
    }
   ],
   "source": [
    "import copy\n",
    "# The next thing that we will be testing is the\n",
    "# insertion sort modifer.\n",
    "\n",
    "# The key to this is the knowledge that insertion sort\n",
    "# is faster than merge short for lists with low lenghts\n",
    "# What value that is what we will test for\n",
    "\n",
    "list_of_lists = [range(x,0,-1) for x in range(1,200)]\n",
    "\n",
    "merge_time = []\n",
    "insert_time = []\n",
    "#print list_of_lists\n",
    "\n",
    "for lis in list_of_lists:\n",
    "    avg_list = []\n",
    "    for x in xrange(10):\n",
    "        list_copy = copy.deepcopy(lis)\n",
    "        avg_list.append(merge_sort_2_timed(list_copy))\n",
    "    merge_time.append(np.mean(avg_list))\n",
    "    \n",
    "\n",
    "for lis in list_of_lists:\n",
    "    avg_list = []\n",
    "    for x in xrange(10):\n",
    "        list_copy = copy.deepcopy(lis)\n",
    "        avg_list.append(insertion_sort_timed(list_copy))\n",
    "    insert_time.append(np.mean(avg_list))\n",
    "\n",
    "\n",
    "    \n",
    "\n",
    "plt.style.use('ggplot')\n",
    "one = plt.plot(range(1,200), merge_time,label = \"Merge\")\n",
    "two = plt.plot(range(1,200),insert_time, label = \"Insertion\")\n",
    "plt.legend()\n",
    "plt.ylabel(\"Time\")\n",
    "plt.xlabel(\"N\")\n",
    "plt.title(\"Fig #4: Worst Case Run Time Comparison\")\n",
    "plt.show"
   ]
  },
  {
   "cell_type": "code",
   "execution_count": 39,
   "metadata": {},
   "outputs": [
    {
     "name": "stdout",
     "output_type": "stream",
     "text": [
      "30\n"
     ]
    }
   ],
   "source": [
    "# What we are interested in from the previous figure \n",
    "# is the point at which merge sort is better than\n",
    "# insertion sort, as this is the cutoff value \n",
    "# that we should use when using  the insertion sort\n",
    "# build for merge sort.\n",
    "\n",
    "\n",
    "counter = 0\n",
    "for x in xrange(200):\n",
    "    if merge_time[x] < insert_time[x]:\n",
    "        counter +=1\n",
    "        if counter >10:\n",
    "            print x-10\n",
    "            break\n",
    "        "
   ]
  },
  {
   "cell_type": "raw",
   "metadata": {},
   "source": [
    "From the above, we have found the optimal value\n",
    "of insertion_level, of 30. Thus, if we want our\n",
    "algorithm to run the fastest, we should\n",
    "have it switch to insertion sort for lists \n",
    "smaller than 30.\n",
    "\n",
    "We have one last test to do, \n",
    "which is finding the optimal value of k."
   ]
  },
  {
   "cell_type": "code",
   "execution_count": 28,
   "metadata": {},
   "outputs": [],
   "source": [
    "#We will now compare merge sort for varying values of k\n",
    "\n",
    "test = range(1000,0,-1)\n",
    "k_times = []\n",
    "for k in range(2,100):\n",
    "    avg_list = []\n",
    "    for x in xrange(5):\n",
    "        list_copy = copy.deepcopy(test)\n",
    "        avg_list.append(merge_sort_timed(list_copy,k))\n",
    "    k_times.append(np.mean(avg_list))\n",
    "    "
   ]
  },
  {
   "cell_type": "code",
   "execution_count": 35,
   "metadata": {},
   "outputs": [
    {
     "data": {
      "text/plain": [
       "<function matplotlib.pyplot.show>"
      ]
     },
     "execution_count": 35,
     "metadata": {},
     "output_type": "execute_result"
    },
    {
     "data": {
      "image/png": "[encoded data removed]",
      "text/plain": [
       "<matplotlib.figure.Figure at 0x10916b390>"
      ]
     },
     "metadata": {},
     "output_type": "display_data"
    }
   ],
   "source": [
    "plt.style.use('ggplot')\n",
    "one = plt.plot(range(2,100), k_times)\n",
    "plt.legend()\n",
    "plt.ylabel(\"Time\")\n",
    "plt.xlabel(\"K\")\n",
    "plt.title(\"k value Time Comparison with n=1000\")\n",
    "plt.show"
   ]
  },
  {
   "cell_type": "code",
   "execution_count": 31,
   "metadata": {},
   "outputs": [
    {
     "data": {
      "text/plain": [
       "8"
      ]
     },
     "execution_count": 31,
     "metadata": {},
     "output_type": "execute_result"
    }
   ],
   "source": [
    "k_times.index(min(k_times))"
   ]
  },
  {
   "cell_type": "code",
   "execution_count": 32,
   "metadata": {
    "collapsed": true
   },
   "outputs": [],
   "source": [
    "#I repeated this test with n = 2000\n",
    "\n",
    "test = range(2000,0,-1)\n",
    "k_times = []\n",
    "for k in range(2,100):\n",
    "    avg_list = []\n",
    "    for x in xrange(5):\n",
    "        list_copy = copy.deepcopy(test)\n",
    "        avg_list.append(merge_sort_timed(list_copy,k))\n",
    "    k_times.append(np.mean(avg_list))\n",
    "    "
   ]
  },
  {
   "cell_type": "code",
   "execution_count": 33,
   "metadata": {},
   "outputs": [
    {
     "data": {
      "text/plain": [
       "<function matplotlib.pyplot.show>"
      ]
     },
     "execution_count": 33,
     "metadata": {},
     "output_type": "execute_result"
    },
    {
     "data": {
      "image/png": "[encoded data removed]",
      "text/plain": [
       "<matplotlib.figure.Figure at 0x1092578d0>"
      ]
     },
     "metadata": {},
     "output_type": "display_data"
    }
   ],
   "source": [
    "plt.style.use('ggplot')\n",
    "one = plt.plot(range(2,100), k_times)\n",
    "plt.legend()\n",
    "plt.ylabel(\"Time\")\n",
    "plt.xlabel(\"N\")\n",
    "plt.title(\"k value Time Comparison with n = 2000\")\n",
    "plt.show"
   ]
  },
  {
   "cell_type": "code",
   "execution_count": 34,
   "metadata": {},
   "outputs": [
    {
     "data": {
      "text/plain": [
       "11"
      ]
     },
     "execution_count": 34,
     "metadata": {},
     "output_type": "execute_result"
    }
   ],
   "source": [
    "k_times.index(min(k_times))"
   ]
  },
  {
   "cell_type": "raw",
   "metadata": {},
   "source": [
    "From the previous two figures, the behaviour\n",
    "of the run time of k way merge-sort with \n",
    "increasing values of k can be seen.\n",
    "\n",
    "For n = 1000, the optimal value of k was 8.\n",
    "For n = 2000, the optimal value of k was 11.\n",
    "\n",
    "From looking at the graphs, we can see that the\n",
    "general trend of the time is increasing, so as\n",
    "k increases, merge sort takes longer to run.\n",
    "However, it is not a straight line as there is high\n",
    "variance. My hypothesis is that certain values of k\n",
    "perform better than lower values of k because they \n",
    "either divide into or are closer to dividing into n,\n",
    "minimizing inefficient empty lists being created in \n",
    "the process.\n",
    "\n",
    "The minimum appears to be at a low value of k, but\n",
    "not the lowest value. It can thus be shown that there\n",
    "is an optimal value of k for each length n of the list\n",
    "being sorted.\n"
   ]
  }
 ],
 "metadata": {
  "kernelspec": {
   "display_name": "Python 3",
   "language": "python",
   "name": "python3"
  },
  "language_info": {
   "codemirror_mode": {
    "name": "ipython",
    "version": 3
   },
   "file_extension": ".py",
   "mimetype": "text/x-python",
   "name": "python",
   "nbconvert_exporter": "python",
   "pygments_lexer": "ipython3",
   "version": "3.7.0"
  }
 },
 "nbformat": 4,
 "nbformat_minor": 1
}
